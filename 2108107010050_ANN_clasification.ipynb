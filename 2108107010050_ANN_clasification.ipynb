{
 "cells": [
  {
   "cell_type": "markdown",
   "metadata": {},
   "source": [
    "## Informasi Mahasiswa\n",
    "\n",
    "Nama: Muhammad Farhan\n",
    "\n",
    "NPM: 2108107010050\n"
   ]
  },
  {
   "cell_type": "markdown",
   "metadata": {},
   "source": [
    "# Dataset\n",
    "\n",
    "Source dataset: https://www.kaggle.com/datasets/erdemtaha/cancer-data/data\n",
    "\n",
    "**Atribut pada dataset** \n",
    "\n",
    "radius_mean, texture_mean, perimeter_mean, area_mean, smoothness_mean, compactness_mean, concavity_mean, concave points_mean: Represents the mean values of the cancer's visual characteristics.\n",
    "\n",
    "**Label pada dataset**\n",
    "\n",
    "diagnosis: Indicates the type of cancer. This property can take the values \"M\" (Malignant - Benign) or \"B\" (Benign - Malignant)"
   ]
  },
  {
   "cell_type": "markdown",
   "metadata": {},
   "source": [
    "## Studi Kasus\n",
    "\n",
    "Membangun model untuk melakukan klasifikasi pada cancer yang diderita pasien. Dalam studi kasus ini kita akan melakukan klasifikasi untuk mengelompokkan tumor jinak dan tumor ganar"
   ]
  },
  {
   "cell_type": "markdown",
   "metadata": {},
   "source": [
    "# Library Yang Digunakan"
   ]
  },
  {
   "cell_type": "code",
   "execution_count": 31,
   "metadata": {},
   "outputs": [],
   "source": [
    "import numpy as np\n",
    "import pandas as pd\n",
    "from sklearn.model_selection import train_test_split, GridSearchCV\n",
    "from sklearn.preprocessing import StandardScaler\n",
    "from sklearn.svm import SVC\n",
    "from sklearn.metrics import accuracy_score, confusion_matrix, classification_report\n",
    "import matplotlib.pyplot as plt \n",
    "import warnings\n",
    "warnings.filterwarnings(\"ignore\")\n",
    "import tensorflow as tf\n",
    "from sklearn.model_selection import train_test_split\n",
    "from sklearn.preprocessing import StandardScaler\n",
    "from sklearn.metrics import accuracy_score, confusion_matrix, classification_report\n",
    "from tensorflow.keras.models import Sequential\n",
    "from tensorflow.keras.layers import Dense, Activation, Dropout"
   ]
  },
  {
   "cell_type": "markdown",
   "metadata": {},
   "source": [
    "# Membaca dataset"
   ]
  },
  {
   "cell_type": "code",
   "execution_count": 32,
   "metadata": {},
   "outputs": [
    {
     "name": "stdout",
     "output_type": "stream",
     "text": [
      "         id diagnosis  radius_mean  texture_mean  perimeter_mean  area_mean  \\\n",
      "0    842302         M        17.99         10.38          122.80     1001.0   \n",
      "1    842517         M        20.57         17.77          132.90     1326.0   \n",
      "2  84300903         M        19.69         21.25          130.00     1203.0   \n",
      "3  84348301         M        11.42         20.38           77.58      386.1   \n",
      "4  84358402         M        20.29         14.34          135.10     1297.0   \n",
      "\n",
      "   smoothness_mean  compactness_mean  concavity_mean  concave points_mean  \\\n",
      "0          0.11840           0.27760          0.3001              0.14710   \n",
      "1          0.08474           0.07864          0.0869              0.07017   \n",
      "2          0.10960           0.15990          0.1974              0.12790   \n",
      "3          0.14250           0.28390          0.2414              0.10520   \n",
      "4          0.10030           0.13280          0.1980              0.10430   \n",
      "\n",
      "   ...  texture_worst  perimeter_worst  area_worst  smoothness_worst  \\\n",
      "0  ...          17.33           184.60      2019.0            0.1622   \n",
      "1  ...          23.41           158.80      1956.0            0.1238   \n",
      "2  ...          25.53           152.50      1709.0            0.1444   \n",
      "3  ...          26.50            98.87       567.7            0.2098   \n",
      "4  ...          16.67           152.20      1575.0            0.1374   \n",
      "\n",
      "   compactness_worst  concavity_worst  concave points_worst  symmetry_worst  \\\n",
      "0             0.6656           0.7119                0.2654          0.4601   \n",
      "1             0.1866           0.2416                0.1860          0.2750   \n",
      "2             0.4245           0.4504                0.2430          0.3613   \n",
      "3             0.8663           0.6869                0.2575          0.6638   \n",
      "4             0.2050           0.4000                0.1625          0.2364   \n",
      "\n",
      "   fractal_dimension_worst  Unnamed: 32  \n",
      "0                  0.11890          NaN  \n",
      "1                  0.08902          NaN  \n",
      "2                  0.08758          NaN  \n",
      "3                  0.17300          NaN  \n",
      "4                  0.07678          NaN  \n",
      "\n",
      "[5 rows x 33 columns]\n"
     ]
    }
   ],
   "source": [
    "import pandas as pd\n",
    "\n",
    "dataset_path = 'dataset/Cancer_Data.csv'\n",
    "\n",
    "# Read the dataset into a pandas DataFrame\n",
    "df = pd.read_csv(dataset_path)\n",
    "\n",
    "# Display the first few rows of the DataFrame\n",
    "print(df.head(5))"
   ]
  },
  {
   "cell_type": "markdown",
   "metadata": {},
   "source": [
    "# Preprocessing Data"
   ]
  },
  {
   "cell_type": "code",
   "execution_count": 33,
   "metadata": {},
   "outputs": [
    {
     "name": "stdout",
     "output_type": "stream",
     "text": [
      "<class 'pandas.core.frame.DataFrame'>\n",
      "RangeIndex: 569 entries, 0 to 568\n",
      "Data columns (total 33 columns):\n",
      " #   Column                   Non-Null Count  Dtype  \n",
      "---  ------                   --------------  -----  \n",
      " 0   id                       569 non-null    int64  \n",
      " 1   diagnosis                569 non-null    object \n",
      " 2   radius_mean              569 non-null    float64\n",
      " 3   texture_mean             569 non-null    float64\n",
      " 4   perimeter_mean           569 non-null    float64\n",
      " 5   area_mean                569 non-null    float64\n",
      " 6   smoothness_mean          569 non-null    float64\n",
      " 7   compactness_mean         569 non-null    float64\n",
      " 8   concavity_mean           569 non-null    float64\n",
      " 9   concave points_mean      569 non-null    float64\n",
      " 10  symmetry_mean            569 non-null    float64\n",
      " 11  fractal_dimension_mean   569 non-null    float64\n",
      " 12  radius_se                569 non-null    float64\n",
      " 13  texture_se               569 non-null    float64\n",
      " 14  perimeter_se             569 non-null    float64\n",
      " 15  area_se                  569 non-null    float64\n",
      " 16  smoothness_se            569 non-null    float64\n",
      " 17  compactness_se           569 non-null    float64\n",
      " 18  concavity_se             569 non-null    float64\n",
      " 19  concave points_se        569 non-null    float64\n",
      " 20  symmetry_se              569 non-null    float64\n",
      " 21  fractal_dimension_se     569 non-null    float64\n",
      " 22  radius_worst             569 non-null    float64\n",
      " 23  texture_worst            569 non-null    float64\n",
      " 24  perimeter_worst          569 non-null    float64\n",
      " 25  area_worst               569 non-null    float64\n",
      " 26  smoothness_worst         569 non-null    float64\n",
      " 27  compactness_worst        569 non-null    float64\n",
      " 28  concavity_worst          569 non-null    float64\n",
      " 29  concave points_worst     569 non-null    float64\n",
      " 30  symmetry_worst           569 non-null    float64\n",
      " 31  fractal_dimension_worst  569 non-null    float64\n",
      " 32  Unnamed: 32              0 non-null      float64\n",
      "dtypes: float64(31), int64(1), object(1)\n",
      "memory usage: 146.8+ KB\n"
     ]
    }
   ],
   "source": [
    "# Melihat informasi pada dataset\n",
    "df.info()\n"
   ]
  },
  {
   "cell_type": "code",
   "execution_count": 34,
   "metadata": {},
   "outputs": [],
   "source": [
    "# List of columns to drop\n",
    "columns_to_drop = ['Unnamed: 32', 'id']\n",
    "\n",
    "# Drop the specified columns\n",
    "df.drop(columns_to_drop, axis=1, inplace=True)\n"
   ]
  },
  {
   "cell_type": "markdown",
   "metadata": {},
   "source": [
    "Membuang column id dan Unnamed: 32"
   ]
  },
  {
   "cell_type": "code",
   "execution_count": 35,
   "metadata": {},
   "outputs": [
    {
     "data": {
      "text/html": [
       "<div>\n",
       "<style scoped>\n",
       "    .dataframe tbody tr th:only-of-type {\n",
       "        vertical-align: middle;\n",
       "    }\n",
       "\n",
       "    .dataframe tbody tr th {\n",
       "        vertical-align: top;\n",
       "    }\n",
       "\n",
       "    .dataframe thead th {\n",
       "        text-align: right;\n",
       "    }\n",
       "</style>\n",
       "<table border=\"1\" class=\"dataframe\">\n",
       "  <thead>\n",
       "    <tr style=\"text-align: right;\">\n",
       "      <th></th>\n",
       "      <th>radius_mean</th>\n",
       "      <th>texture_mean</th>\n",
       "      <th>perimeter_mean</th>\n",
       "      <th>area_mean</th>\n",
       "      <th>smoothness_mean</th>\n",
       "      <th>compactness_mean</th>\n",
       "      <th>concavity_mean</th>\n",
       "      <th>concave points_mean</th>\n",
       "      <th>symmetry_mean</th>\n",
       "      <th>fractal_dimension_mean</th>\n",
       "      <th>...</th>\n",
       "      <th>radius_worst</th>\n",
       "      <th>texture_worst</th>\n",
       "      <th>perimeter_worst</th>\n",
       "      <th>area_worst</th>\n",
       "      <th>smoothness_worst</th>\n",
       "      <th>compactness_worst</th>\n",
       "      <th>concavity_worst</th>\n",
       "      <th>concave points_worst</th>\n",
       "      <th>symmetry_worst</th>\n",
       "      <th>fractal_dimension_worst</th>\n",
       "    </tr>\n",
       "  </thead>\n",
       "  <tbody>\n",
       "    <tr>\n",
       "      <th>count</th>\n",
       "      <td>569.000000</td>\n",
       "      <td>569.000000</td>\n",
       "      <td>569.000000</td>\n",
       "      <td>569.000000</td>\n",
       "      <td>569.000000</td>\n",
       "      <td>569.000000</td>\n",
       "      <td>569.000000</td>\n",
       "      <td>569.000000</td>\n",
       "      <td>569.000000</td>\n",
       "      <td>569.000000</td>\n",
       "      <td>...</td>\n",
       "      <td>569.000000</td>\n",
       "      <td>569.000000</td>\n",
       "      <td>569.000000</td>\n",
       "      <td>569.000000</td>\n",
       "      <td>569.000000</td>\n",
       "      <td>569.000000</td>\n",
       "      <td>569.000000</td>\n",
       "      <td>569.000000</td>\n",
       "      <td>569.000000</td>\n",
       "      <td>569.000000</td>\n",
       "    </tr>\n",
       "    <tr>\n",
       "      <th>mean</th>\n",
       "      <td>14.127292</td>\n",
       "      <td>19.289649</td>\n",
       "      <td>91.969033</td>\n",
       "      <td>654.889104</td>\n",
       "      <td>0.096360</td>\n",
       "      <td>0.104341</td>\n",
       "      <td>0.088799</td>\n",
       "      <td>0.048919</td>\n",
       "      <td>0.181162</td>\n",
       "      <td>0.062798</td>\n",
       "      <td>...</td>\n",
       "      <td>16.269190</td>\n",
       "      <td>25.677223</td>\n",
       "      <td>107.261213</td>\n",
       "      <td>880.583128</td>\n",
       "      <td>0.132369</td>\n",
       "      <td>0.254265</td>\n",
       "      <td>0.272188</td>\n",
       "      <td>0.114606</td>\n",
       "      <td>0.290076</td>\n",
       "      <td>0.083946</td>\n",
       "    </tr>\n",
       "    <tr>\n",
       "      <th>std</th>\n",
       "      <td>3.524049</td>\n",
       "      <td>4.301036</td>\n",
       "      <td>24.298981</td>\n",
       "      <td>351.914129</td>\n",
       "      <td>0.014064</td>\n",
       "      <td>0.052813</td>\n",
       "      <td>0.079720</td>\n",
       "      <td>0.038803</td>\n",
       "      <td>0.027414</td>\n",
       "      <td>0.007060</td>\n",
       "      <td>...</td>\n",
       "      <td>4.833242</td>\n",
       "      <td>6.146258</td>\n",
       "      <td>33.602542</td>\n",
       "      <td>569.356993</td>\n",
       "      <td>0.022832</td>\n",
       "      <td>0.157336</td>\n",
       "      <td>0.208624</td>\n",
       "      <td>0.065732</td>\n",
       "      <td>0.061867</td>\n",
       "      <td>0.018061</td>\n",
       "    </tr>\n",
       "    <tr>\n",
       "      <th>min</th>\n",
       "      <td>6.981000</td>\n",
       "      <td>9.710000</td>\n",
       "      <td>43.790000</td>\n",
       "      <td>143.500000</td>\n",
       "      <td>0.052630</td>\n",
       "      <td>0.019380</td>\n",
       "      <td>0.000000</td>\n",
       "      <td>0.000000</td>\n",
       "      <td>0.106000</td>\n",
       "      <td>0.049960</td>\n",
       "      <td>...</td>\n",
       "      <td>7.930000</td>\n",
       "      <td>12.020000</td>\n",
       "      <td>50.410000</td>\n",
       "      <td>185.200000</td>\n",
       "      <td>0.071170</td>\n",
       "      <td>0.027290</td>\n",
       "      <td>0.000000</td>\n",
       "      <td>0.000000</td>\n",
       "      <td>0.156500</td>\n",
       "      <td>0.055040</td>\n",
       "    </tr>\n",
       "    <tr>\n",
       "      <th>25%</th>\n",
       "      <td>11.700000</td>\n",
       "      <td>16.170000</td>\n",
       "      <td>75.170000</td>\n",
       "      <td>420.300000</td>\n",
       "      <td>0.086370</td>\n",
       "      <td>0.064920</td>\n",
       "      <td>0.029560</td>\n",
       "      <td>0.020310</td>\n",
       "      <td>0.161900</td>\n",
       "      <td>0.057700</td>\n",
       "      <td>...</td>\n",
       "      <td>13.010000</td>\n",
       "      <td>21.080000</td>\n",
       "      <td>84.110000</td>\n",
       "      <td>515.300000</td>\n",
       "      <td>0.116600</td>\n",
       "      <td>0.147200</td>\n",
       "      <td>0.114500</td>\n",
       "      <td>0.064930</td>\n",
       "      <td>0.250400</td>\n",
       "      <td>0.071460</td>\n",
       "    </tr>\n",
       "    <tr>\n",
       "      <th>50%</th>\n",
       "      <td>13.370000</td>\n",
       "      <td>18.840000</td>\n",
       "      <td>86.240000</td>\n",
       "      <td>551.100000</td>\n",
       "      <td>0.095870</td>\n",
       "      <td>0.092630</td>\n",
       "      <td>0.061540</td>\n",
       "      <td>0.033500</td>\n",
       "      <td>0.179200</td>\n",
       "      <td>0.061540</td>\n",
       "      <td>...</td>\n",
       "      <td>14.970000</td>\n",
       "      <td>25.410000</td>\n",
       "      <td>97.660000</td>\n",
       "      <td>686.500000</td>\n",
       "      <td>0.131300</td>\n",
       "      <td>0.211900</td>\n",
       "      <td>0.226700</td>\n",
       "      <td>0.099930</td>\n",
       "      <td>0.282200</td>\n",
       "      <td>0.080040</td>\n",
       "    </tr>\n",
       "    <tr>\n",
       "      <th>75%</th>\n",
       "      <td>15.780000</td>\n",
       "      <td>21.800000</td>\n",
       "      <td>104.100000</td>\n",
       "      <td>782.700000</td>\n",
       "      <td>0.105300</td>\n",
       "      <td>0.130400</td>\n",
       "      <td>0.130700</td>\n",
       "      <td>0.074000</td>\n",
       "      <td>0.195700</td>\n",
       "      <td>0.066120</td>\n",
       "      <td>...</td>\n",
       "      <td>18.790000</td>\n",
       "      <td>29.720000</td>\n",
       "      <td>125.400000</td>\n",
       "      <td>1084.000000</td>\n",
       "      <td>0.146000</td>\n",
       "      <td>0.339100</td>\n",
       "      <td>0.382900</td>\n",
       "      <td>0.161400</td>\n",
       "      <td>0.317900</td>\n",
       "      <td>0.092080</td>\n",
       "    </tr>\n",
       "    <tr>\n",
       "      <th>max</th>\n",
       "      <td>28.110000</td>\n",
       "      <td>39.280000</td>\n",
       "      <td>188.500000</td>\n",
       "      <td>2501.000000</td>\n",
       "      <td>0.163400</td>\n",
       "      <td>0.345400</td>\n",
       "      <td>0.426800</td>\n",
       "      <td>0.201200</td>\n",
       "      <td>0.304000</td>\n",
       "      <td>0.097440</td>\n",
       "      <td>...</td>\n",
       "      <td>36.040000</td>\n",
       "      <td>49.540000</td>\n",
       "      <td>251.200000</td>\n",
       "      <td>4254.000000</td>\n",
       "      <td>0.222600</td>\n",
       "      <td>1.058000</td>\n",
       "      <td>1.252000</td>\n",
       "      <td>0.291000</td>\n",
       "      <td>0.663800</td>\n",
       "      <td>0.207500</td>\n",
       "    </tr>\n",
       "  </tbody>\n",
       "</table>\n",
       "<p>8 rows × 30 columns</p>\n",
       "</div>"
      ],
      "text/plain": [
       "       radius_mean  texture_mean  perimeter_mean    area_mean  \\\n",
       "count   569.000000    569.000000      569.000000   569.000000   \n",
       "mean     14.127292     19.289649       91.969033   654.889104   \n",
       "std       3.524049      4.301036       24.298981   351.914129   \n",
       "min       6.981000      9.710000       43.790000   143.500000   \n",
       "25%      11.700000     16.170000       75.170000   420.300000   \n",
       "50%      13.370000     18.840000       86.240000   551.100000   \n",
       "75%      15.780000     21.800000      104.100000   782.700000   \n",
       "max      28.110000     39.280000      188.500000  2501.000000   \n",
       "\n",
       "       smoothness_mean  compactness_mean  concavity_mean  concave points_mean  \\\n",
       "count       569.000000        569.000000      569.000000           569.000000   \n",
       "mean          0.096360          0.104341        0.088799             0.048919   \n",
       "std           0.014064          0.052813        0.079720             0.038803   \n",
       "min           0.052630          0.019380        0.000000             0.000000   \n",
       "25%           0.086370          0.064920        0.029560             0.020310   \n",
       "50%           0.095870          0.092630        0.061540             0.033500   \n",
       "75%           0.105300          0.130400        0.130700             0.074000   \n",
       "max           0.163400          0.345400        0.426800             0.201200   \n",
       "\n",
       "       symmetry_mean  fractal_dimension_mean  ...  radius_worst  \\\n",
       "count     569.000000              569.000000  ...    569.000000   \n",
       "mean        0.181162                0.062798  ...     16.269190   \n",
       "std         0.027414                0.007060  ...      4.833242   \n",
       "min         0.106000                0.049960  ...      7.930000   \n",
       "25%         0.161900                0.057700  ...     13.010000   \n",
       "50%         0.179200                0.061540  ...     14.970000   \n",
       "75%         0.195700                0.066120  ...     18.790000   \n",
       "max         0.304000                0.097440  ...     36.040000   \n",
       "\n",
       "       texture_worst  perimeter_worst   area_worst  smoothness_worst  \\\n",
       "count     569.000000       569.000000   569.000000        569.000000   \n",
       "mean       25.677223       107.261213   880.583128          0.132369   \n",
       "std         6.146258        33.602542   569.356993          0.022832   \n",
       "min        12.020000        50.410000   185.200000          0.071170   \n",
       "25%        21.080000        84.110000   515.300000          0.116600   \n",
       "50%        25.410000        97.660000   686.500000          0.131300   \n",
       "75%        29.720000       125.400000  1084.000000          0.146000   \n",
       "max        49.540000       251.200000  4254.000000          0.222600   \n",
       "\n",
       "       compactness_worst  concavity_worst  concave points_worst  \\\n",
       "count         569.000000       569.000000            569.000000   \n",
       "mean            0.254265         0.272188              0.114606   \n",
       "std             0.157336         0.208624              0.065732   \n",
       "min             0.027290         0.000000              0.000000   \n",
       "25%             0.147200         0.114500              0.064930   \n",
       "50%             0.211900         0.226700              0.099930   \n",
       "75%             0.339100         0.382900              0.161400   \n",
       "max             1.058000         1.252000              0.291000   \n",
       "\n",
       "       symmetry_worst  fractal_dimension_worst  \n",
       "count      569.000000               569.000000  \n",
       "mean         0.290076                 0.083946  \n",
       "std          0.061867                 0.018061  \n",
       "min          0.156500                 0.055040  \n",
       "25%          0.250400                 0.071460  \n",
       "50%          0.282200                 0.080040  \n",
       "75%          0.317900                 0.092080  \n",
       "max          0.663800                 0.207500  \n",
       "\n",
       "[8 rows x 30 columns]"
      ]
     },
     "execution_count": 35,
     "metadata": {},
     "output_type": "execute_result"
    }
   ],
   "source": [
    "# Cek statistik deskriptif dataset\n",
    "df.describe()"
   ]
  },
  {
   "cell_type": "code",
   "execution_count": 36,
   "metadata": {},
   "outputs": [
    {
     "data": {
      "text/plain": [
       "diagnosis                  0\n",
       "radius_mean                0\n",
       "texture_mean               0\n",
       "perimeter_mean             0\n",
       "area_mean                  0\n",
       "smoothness_mean            0\n",
       "compactness_mean           0\n",
       "concavity_mean             0\n",
       "concave points_mean        0\n",
       "symmetry_mean              0\n",
       "fractal_dimension_mean     0\n",
       "radius_se                  0\n",
       "texture_se                 0\n",
       "perimeter_se               0\n",
       "area_se                    0\n",
       "smoothness_se              0\n",
       "compactness_se             0\n",
       "concavity_se               0\n",
       "concave points_se          0\n",
       "symmetry_se                0\n",
       "fractal_dimension_se       0\n",
       "radius_worst               0\n",
       "texture_worst              0\n",
       "perimeter_worst            0\n",
       "area_worst                 0\n",
       "smoothness_worst           0\n",
       "compactness_worst          0\n",
       "concavity_worst            0\n",
       "concave points_worst       0\n",
       "symmetry_worst             0\n",
       "fractal_dimension_worst    0\n",
       "dtype: int64"
      ]
     },
     "execution_count": 36,
     "metadata": {},
     "output_type": "execute_result"
    }
   ],
   "source": [
    "# Check for missing values\n",
    "missing_values = df.isnull().sum()\n",
    "missing_values"
   ]
  },
  {
   "cell_type": "code",
   "execution_count": 37,
   "metadata": {},
   "outputs": [
    {
     "data": {
      "text/plain": [
       "0"
      ]
     },
     "execution_count": 37,
     "metadata": {},
     "output_type": "execute_result"
    }
   ],
   "source": [
    "#check duplicate data\n",
    "df.duplicated().sum()"
   ]
  },
  {
   "cell_type": "code",
   "execution_count": 38,
   "metadata": {},
   "outputs": [
    {
     "name": "stdout",
     "output_type": "stream",
     "text": [
      "     diagnosis  radius_mean  texture_mean  perimeter_mean  area_mean  \\\n",
      "0            1        17.99         10.38          122.80     1001.0   \n",
      "1            1        20.57         17.77          132.90     1326.0   \n",
      "2            1        19.69         21.25          130.00     1203.0   \n",
      "3            1        11.42         20.38           77.58      386.1   \n",
      "4            1        20.29         14.34          135.10     1297.0   \n",
      "..         ...          ...           ...             ...        ...   \n",
      "564          1        21.56         22.39          142.00     1479.0   \n",
      "565          1        20.13         28.25          131.20     1261.0   \n",
      "566          1        16.60         28.08          108.30      858.1   \n",
      "567          1        20.60         29.33          140.10     1265.0   \n",
      "568          0         7.76         24.54           47.92      181.0   \n",
      "\n",
      "     smoothness_mean  compactness_mean  concavity_mean  concave points_mean  \\\n",
      "0            0.11840           0.27760         0.30010              0.14710   \n",
      "1            0.08474           0.07864         0.08690              0.07017   \n",
      "2            0.10960           0.15990         0.19740              0.12790   \n",
      "3            0.14250           0.28390         0.24140              0.10520   \n",
      "4            0.10030           0.13280         0.19800              0.10430   \n",
      "..               ...               ...             ...                  ...   \n",
      "564          0.11100           0.11590         0.24390              0.13890   \n",
      "565          0.09780           0.10340         0.14400              0.09791   \n",
      "566          0.08455           0.10230         0.09251              0.05302   \n",
      "567          0.11780           0.27700         0.35140              0.15200   \n",
      "568          0.05263           0.04362         0.00000              0.00000   \n",
      "\n",
      "     symmetry_mean  ...  radius_worst  texture_worst  perimeter_worst  \\\n",
      "0           0.2419  ...        25.380          17.33           184.60   \n",
      "1           0.1812  ...        24.990          23.41           158.80   \n",
      "2           0.2069  ...        23.570          25.53           152.50   \n",
      "3           0.2597  ...        14.910          26.50            98.87   \n",
      "4           0.1809  ...        22.540          16.67           152.20   \n",
      "..             ...  ...           ...            ...              ...   \n",
      "564         0.1726  ...        25.450          26.40           166.10   \n",
      "565         0.1752  ...        23.690          38.25           155.00   \n",
      "566         0.1590  ...        18.980          34.12           126.70   \n",
      "567         0.2397  ...        25.740          39.42           184.60   \n",
      "568         0.1587  ...         9.456          30.37            59.16   \n",
      "\n",
      "     area_worst  smoothness_worst  compactness_worst  concavity_worst  \\\n",
      "0        2019.0           0.16220            0.66560           0.7119   \n",
      "1        1956.0           0.12380            0.18660           0.2416   \n",
      "2        1709.0           0.14440            0.42450           0.4504   \n",
      "3         567.7           0.20980            0.86630           0.6869   \n",
      "4        1575.0           0.13740            0.20500           0.4000   \n",
      "..          ...               ...                ...              ...   \n",
      "564      2027.0           0.14100            0.21130           0.4107   \n",
      "565      1731.0           0.11660            0.19220           0.3215   \n",
      "566      1124.0           0.11390            0.30940           0.3403   \n",
      "567      1821.0           0.16500            0.86810           0.9387   \n",
      "568       268.6           0.08996            0.06444           0.0000   \n",
      "\n",
      "     concave points_worst  symmetry_worst  fractal_dimension_worst  \n",
      "0                  0.2654          0.4601                  0.11890  \n",
      "1                  0.1860          0.2750                  0.08902  \n",
      "2                  0.2430          0.3613                  0.08758  \n",
      "3                  0.2575          0.6638                  0.17300  \n",
      "4                  0.1625          0.2364                  0.07678  \n",
      "..                    ...             ...                      ...  \n",
      "564                0.2216          0.2060                  0.07115  \n",
      "565                0.1628          0.2572                  0.06637  \n",
      "566                0.1418          0.2218                  0.07820  \n",
      "567                0.2650          0.4087                  0.12400  \n",
      "568                0.0000          0.2871                  0.07039  \n",
      "\n",
      "[569 rows x 31 columns]\n"
     ]
    }
   ],
   "source": [
    "#mapping dataset Jika tumor ganas akan diubah menjadi 1 dan tumor jinak akan diubah menjadi 0\n",
    "label_mapping = {'B': 0, 'M': 1}\n",
    "\n",
    "# Apply the mapping\n",
    "df['diagnosis'] = df['diagnosis'].map(label_mapping)\n",
    "\n",
    "print(df)"
   ]
  },
  {
   "cell_type": "markdown",
   "metadata": {},
   "source": [
    "Melakukan Mapping terhadap column diagnosis dengan mengubah nilai B menjadi 0 dan M menjadi 1. Hal ini bertujuan agar memudahkan untuk melakukan klasifikasi dengan menggunakan metode SVM"
   ]
  },
  {
   "cell_type": "markdown",
   "metadata": {},
   "source": [
    "# Exploratory Data Analysis"
   ]
  },
  {
   "cell_type": "code",
   "execution_count": 39,
   "metadata": {},
   "outputs": [
    {
     "name": "stdout",
     "output_type": "stream",
     "text": [
      "                         diagnosis  radius_mean  texture_mean  perimeter_mean  \\\n",
      "diagnosis                 1.000000     0.730029      0.415185        0.742636   \n",
      "radius_mean               0.730029     1.000000      0.323782        0.997855   \n",
      "texture_mean              0.415185     0.323782      1.000000        0.329533   \n",
      "perimeter_mean            0.742636     0.997855      0.329533        1.000000   \n",
      "area_mean                 0.708984     0.987357      0.321086        0.986507   \n",
      "smoothness_mean           0.358560     0.170581     -0.023389        0.207278   \n",
      "compactness_mean          0.596534     0.506124      0.236702        0.556936   \n",
      "concavity_mean            0.696360     0.676764      0.302418        0.716136   \n",
      "concave points_mean       0.776614     0.822529      0.293464        0.850977   \n",
      "symmetry_mean             0.330499     0.147741      0.071401        0.183027   \n",
      "fractal_dimension_mean   -0.012838    -0.311631     -0.076437       -0.261477   \n",
      "radius_se                 0.567134     0.679090      0.275869        0.691765   \n",
      "texture_se               -0.008303    -0.097317      0.386358       -0.086761   \n",
      "perimeter_se              0.556141     0.674172      0.281673        0.693135   \n",
      "area_se                   0.548236     0.735864      0.259845        0.744983   \n",
      "smoothness_se            -0.067016    -0.222600      0.006614       -0.202694   \n",
      "compactness_se            0.292999     0.206000      0.191975        0.250744   \n",
      "concavity_se              0.253730     0.194204      0.143293        0.228082   \n",
      "concave points_se         0.408042     0.376169      0.163851        0.407217   \n",
      "symmetry_se              -0.006522    -0.104321      0.009127       -0.081629   \n",
      "fractal_dimension_se      0.077972    -0.042641      0.054458       -0.005523   \n",
      "radius_worst              0.776454     0.969539      0.352573        0.969476   \n",
      "texture_worst             0.456903     0.297008      0.912045        0.303038   \n",
      "perimeter_worst           0.782914     0.965137      0.358040        0.970387   \n",
      "area_worst                0.733825     0.941082      0.343546        0.941550   \n",
      "smoothness_worst          0.421465     0.119616      0.077503        0.150549   \n",
      "compactness_worst         0.590998     0.413463      0.277830        0.455774   \n",
      "concavity_worst           0.659610     0.526911      0.301025        0.563879   \n",
      "concave points_worst      0.793566     0.744214      0.295316        0.771241   \n",
      "symmetry_worst            0.416294     0.163953      0.105008        0.189115   \n",
      "fractal_dimension_worst   0.323872     0.007066      0.119205        0.051019   \n",
      "\n",
      "                         area_mean  smoothness_mean  compactness_mean  \\\n",
      "diagnosis                 0.708984         0.358560          0.596534   \n",
      "radius_mean               0.987357         0.170581          0.506124   \n",
      "texture_mean              0.321086        -0.023389          0.236702   \n",
      "perimeter_mean            0.986507         0.207278          0.556936   \n",
      "area_mean                 1.000000         0.177028          0.498502   \n",
      "smoothness_mean           0.177028         1.000000          0.659123   \n",
      "compactness_mean          0.498502         0.659123          1.000000   \n",
      "concavity_mean            0.685983         0.521984          0.883121   \n",
      "concave points_mean       0.823269         0.553695          0.831135   \n",
      "symmetry_mean             0.151293         0.557775          0.602641   \n",
      "fractal_dimension_mean   -0.283110         0.584792          0.565369   \n",
      "radius_se                 0.732562         0.301467          0.497473   \n",
      "texture_se               -0.066280         0.068406          0.046205   \n",
      "perimeter_se              0.726628         0.296092          0.548905   \n",
      "area_se                   0.800086         0.246552          0.455653   \n",
      "smoothness_se            -0.166777         0.332375          0.135299   \n",
      "compactness_se            0.212583         0.318943          0.738722   \n",
      "concavity_se              0.207660         0.248396          0.570517   \n",
      "concave points_se         0.372320         0.380676          0.642262   \n",
      "symmetry_se              -0.072497         0.200774          0.229977   \n",
      "fractal_dimension_se     -0.019887         0.283607          0.507318   \n",
      "radius_worst              0.962746         0.213120          0.535315   \n",
      "texture_worst             0.287489         0.036072          0.248133   \n",
      "perimeter_worst           0.959120         0.238853          0.590210   \n",
      "area_worst                0.959213         0.206718          0.509604   \n",
      "smoothness_worst          0.123523         0.805324          0.565541   \n",
      "compactness_worst         0.390410         0.472468          0.865809   \n",
      "concavity_worst           0.512606         0.434926          0.816275   \n",
      "concave points_worst      0.722017         0.503053          0.815573   \n",
      "symmetry_worst            0.143570         0.394309          0.510223   \n",
      "fractal_dimension_worst   0.003738         0.499316          0.687382   \n",
      "\n",
      "                         concavity_mean  concave points_mean  symmetry_mean  \\\n",
      "diagnosis                      0.696360             0.776614       0.330499   \n",
      "radius_mean                    0.676764             0.822529       0.147741   \n",
      "texture_mean                   0.302418             0.293464       0.071401   \n",
      "perimeter_mean                 0.716136             0.850977       0.183027   \n",
      "area_mean                      0.685983             0.823269       0.151293   \n",
      "smoothness_mean                0.521984             0.553695       0.557775   \n",
      "compactness_mean               0.883121             0.831135       0.602641   \n",
      "concavity_mean                 1.000000             0.921391       0.500667   \n",
      "concave points_mean            0.921391             1.000000       0.462497   \n",
      "symmetry_mean                  0.500667             0.462497       1.000000   \n",
      "fractal_dimension_mean         0.336783             0.166917       0.479921   \n",
      "radius_se                      0.631925             0.698050       0.303379   \n",
      "texture_se                     0.076218             0.021480       0.128053   \n",
      "perimeter_se                   0.660391             0.710650       0.313893   \n",
      "area_se                        0.617427             0.690299       0.223970   \n",
      "smoothness_se                  0.098564             0.027653       0.187321   \n",
      "compactness_se                 0.670279             0.490424       0.421659   \n",
      "concavity_se                   0.691270             0.439167       0.342627   \n",
      "concave points_se              0.683260             0.615634       0.393298   \n",
      "symmetry_se                    0.178009             0.095351       0.449137   \n",
      "fractal_dimension_se           0.449301             0.257584       0.331786   \n",
      "radius_worst                   0.688236             0.830318       0.185728   \n",
      "texture_worst                  0.299879             0.292752       0.090651   \n",
      "perimeter_worst                0.729565             0.855923       0.219169   \n",
      "area_worst                     0.675987             0.809630       0.177193   \n",
      "smoothness_worst               0.448822             0.452753       0.426675   \n",
      "compactness_worst              0.754968             0.667454       0.473200   \n",
      "concavity_worst                0.884103             0.752399       0.433721   \n",
      "concave points_worst           0.861323             0.910155       0.430297   \n",
      "symmetry_worst                 0.409464             0.375744       0.699826   \n",
      "fractal_dimension_worst        0.514930             0.368661       0.438413   \n",
      "\n",
      "                         ...  radius_worst  texture_worst  perimeter_worst  \\\n",
      "diagnosis                ...      0.776454       0.456903         0.782914   \n",
      "radius_mean              ...      0.969539       0.297008         0.965137   \n",
      "texture_mean             ...      0.352573       0.912045         0.358040   \n",
      "perimeter_mean           ...      0.969476       0.303038         0.970387   \n",
      "area_mean                ...      0.962746       0.287489         0.959120   \n",
      "smoothness_mean          ...      0.213120       0.036072         0.238853   \n",
      "compactness_mean         ...      0.535315       0.248133         0.590210   \n",
      "concavity_mean           ...      0.688236       0.299879         0.729565   \n",
      "concave points_mean      ...      0.830318       0.292752         0.855923   \n",
      "symmetry_mean            ...      0.185728       0.090651         0.219169   \n",
      "fractal_dimension_mean   ...     -0.253691      -0.051269        -0.205151   \n",
      "radius_se                ...      0.715065       0.194799         0.719684   \n",
      "texture_se               ...     -0.111690       0.409003        -0.102242   \n",
      "perimeter_se             ...      0.697201       0.200371         0.721031   \n",
      "area_se                  ...      0.757373       0.196497         0.761213   \n",
      "smoothness_se            ...     -0.230691      -0.074743        -0.217304   \n",
      "compactness_se           ...      0.204607       0.143003         0.260516   \n",
      "concavity_se             ...      0.186904       0.100241         0.226680   \n",
      "concave points_se        ...      0.358127       0.086741         0.394999   \n",
      "symmetry_se              ...     -0.128121      -0.077473        -0.103753   \n",
      "fractal_dimension_se     ...     -0.037488      -0.003195        -0.001000   \n",
      "radius_worst             ...      1.000000       0.359921         0.993708   \n",
      "texture_worst            ...      0.359921       1.000000         0.365098   \n",
      "perimeter_worst          ...      0.993708       0.365098         1.000000   \n",
      "area_worst               ...      0.984015       0.345842         0.977578   \n",
      "smoothness_worst         ...      0.216574       0.225429         0.236775   \n",
      "compactness_worst        ...      0.475820       0.360832         0.529408   \n",
      "concavity_worst          ...      0.573975       0.368366         0.618344   \n",
      "concave points_worst     ...      0.787424       0.359755         0.816322   \n",
      "symmetry_worst           ...      0.243529       0.233027         0.269493   \n",
      "fractal_dimension_worst  ...      0.093492       0.219122         0.138957   \n",
      "\n",
      "                         area_worst  smoothness_worst  compactness_worst  \\\n",
      "diagnosis                  0.733825          0.421465           0.590998   \n",
      "radius_mean                0.941082          0.119616           0.413463   \n",
      "texture_mean               0.343546          0.077503           0.277830   \n",
      "perimeter_mean             0.941550          0.150549           0.455774   \n",
      "area_mean                  0.959213          0.123523           0.390410   \n",
      "smoothness_mean            0.206718          0.805324           0.472468   \n",
      "compactness_mean           0.509604          0.565541           0.865809   \n",
      "concavity_mean             0.675987          0.448822           0.754968   \n",
      "concave points_mean        0.809630          0.452753           0.667454   \n",
      "symmetry_mean              0.177193          0.426675           0.473200   \n",
      "fractal_dimension_mean    -0.231854          0.504942           0.458798   \n",
      "radius_se                  0.751548          0.141919           0.287103   \n",
      "texture_se                -0.083195         -0.073658          -0.092439   \n",
      "perimeter_se               0.730713          0.130054           0.341919   \n",
      "area_se                    0.811408          0.125389           0.283257   \n",
      "smoothness_se             -0.182195          0.314457          -0.055558   \n",
      "compactness_se             0.199371          0.227394           0.678780   \n",
      "concavity_se               0.188353          0.168481           0.484858   \n",
      "concave points_se          0.342271          0.215351           0.452888   \n",
      "symmetry_se               -0.110343         -0.012662           0.060255   \n",
      "fractal_dimension_se      -0.022736          0.170568           0.390159   \n",
      "radius_worst               0.984015          0.216574           0.475820   \n",
      "texture_worst              0.345842          0.225429           0.360832   \n",
      "perimeter_worst            0.977578          0.236775           0.529408   \n",
      "area_worst                 1.000000          0.209145           0.438296   \n",
      "smoothness_worst           0.209145          1.000000           0.568187   \n",
      "compactness_worst          0.438296          0.568187           1.000000   \n",
      "concavity_worst            0.543331          0.518523           0.892261   \n",
      "concave points_worst       0.747419          0.547691           0.801080   \n",
      "symmetry_worst             0.209146          0.493838           0.614441   \n",
      "fractal_dimension_worst    0.079647          0.617624           0.810455   \n",
      "\n",
      "                         concavity_worst  concave points_worst  \\\n",
      "diagnosis                       0.659610              0.793566   \n",
      "radius_mean                     0.526911              0.744214   \n",
      "texture_mean                    0.301025              0.295316   \n",
      "perimeter_mean                  0.563879              0.771241   \n",
      "area_mean                       0.512606              0.722017   \n",
      "smoothness_mean                 0.434926              0.503053   \n",
      "compactness_mean                0.816275              0.815573   \n",
      "concavity_mean                  0.884103              0.861323   \n",
      "concave points_mean             0.752399              0.910155   \n",
      "symmetry_mean                   0.433721              0.430297   \n",
      "fractal_dimension_mean          0.346234              0.175325   \n",
      "radius_se                       0.380585              0.531062   \n",
      "texture_se                     -0.068956             -0.119638   \n",
      "perimeter_se                    0.418899              0.554897   \n",
      "area_se                         0.385100              0.538166   \n",
      "smoothness_se                  -0.058298             -0.102007   \n",
      "compactness_se                  0.639147              0.483208   \n",
      "concavity_se                    0.662564              0.440472   \n",
      "concave points_se               0.549592              0.602450   \n",
      "symmetry_se                     0.037119             -0.030413   \n",
      "fractal_dimension_se            0.379975              0.215204   \n",
      "radius_worst                    0.573975              0.787424   \n",
      "texture_worst                   0.368366              0.359755   \n",
      "perimeter_worst                 0.618344              0.816322   \n",
      "area_worst                      0.543331              0.747419   \n",
      "smoothness_worst                0.518523              0.547691   \n",
      "compactness_worst               0.892261              0.801080   \n",
      "concavity_worst                 1.000000              0.855434   \n",
      "concave points_worst            0.855434              1.000000   \n",
      "symmetry_worst                  0.532520              0.502528   \n",
      "fractal_dimension_worst         0.686511              0.511114   \n",
      "\n",
      "                         symmetry_worst  fractal_dimension_worst  \n",
      "diagnosis                      0.416294                 0.323872  \n",
      "radius_mean                    0.163953                 0.007066  \n",
      "texture_mean                   0.105008                 0.119205  \n",
      "perimeter_mean                 0.189115                 0.051019  \n",
      "area_mean                      0.143570                 0.003738  \n",
      "smoothness_mean                0.394309                 0.499316  \n",
      "compactness_mean               0.510223                 0.687382  \n",
      "concavity_mean                 0.409464                 0.514930  \n",
      "concave points_mean            0.375744                 0.368661  \n",
      "symmetry_mean                  0.699826                 0.438413  \n",
      "fractal_dimension_mean         0.334019                 0.767297  \n",
      "radius_se                      0.094543                 0.049559  \n",
      "texture_se                    -0.128215                -0.045655  \n",
      "perimeter_se                   0.109930                 0.085433  \n",
      "area_se                        0.074126                 0.017539  \n",
      "smoothness_se                 -0.107342                 0.101480  \n",
      "compactness_se                 0.277878                 0.590973  \n",
      "concavity_se                   0.197788                 0.439329  \n",
      "concave points_se              0.143116                 0.310655  \n",
      "symmetry_se                    0.389402                 0.078079  \n",
      "fractal_dimension_se           0.111094                 0.591328  \n",
      "radius_worst                   0.243529                 0.093492  \n",
      "texture_worst                  0.233027                 0.219122  \n",
      "perimeter_worst                0.269493                 0.138957  \n",
      "area_worst                     0.209146                 0.079647  \n",
      "smoothness_worst               0.493838                 0.617624  \n",
      "compactness_worst              0.614441                 0.810455  \n",
      "concavity_worst                0.532520                 0.686511  \n",
      "concave points_worst           0.502528                 0.511114  \n",
      "symmetry_worst                 1.000000                 0.537848  \n",
      "fractal_dimension_worst        0.537848                 1.000000  \n",
      "\n",
      "[31 rows x 31 columns]\n"
     ]
    }
   ],
   "source": [
    "# Calculate the correlation matrix\n",
    "correlation_matrix = df.corr()\n",
    "\n",
    "# Display the correlation matrix\n",
    "print(correlation_matrix)"
   ]
  },
  {
   "cell_type": "markdown",
   "metadata": {},
   "source": [
    "Ini merupakan korelasi antar atribut dapat kita liat atribut concave points_worst sangat mempengaruhi diagnosis dengan nilai 0.793566. Dikarenakan banyaknya atribut sehingga membuat saya tidak melakukan plotting dalam melihat korelasi."
   ]
  },
  {
   "cell_type": "code",
   "execution_count": 40,
   "metadata": {},
   "outputs": [
    {
     "data": {
      "image/png": "[encoded data removed]",
      "text/plain": [
       "<Figure size 800x600 with 1 Axes>"
      ]
     },
     "metadata": {},
     "output_type": "display_data"
    }
   ],
   "source": [
    "# Group by the \"diagnosis\" attribute and count occurrences\n",
    "diagnosis_counts = df['diagnosis'].value_counts()\n",
    "\n",
    "# Define labels with explanations\n",
    "labels = ['Tumor Jinak ', 'Tumor Ganas ']\n",
    "# Plotting the pie chart\n",
    "plt.figure(figsize=(8, 6))\n",
    "plt.pie(diagnosis_counts, labels=labels, autopct='%1.1f%%', startangle=140)\n",
    "plt.legend(title='result',loc=(1,0.6))\n",
    "plt.title('Distribution of Diagnosis')\n",
    "plt.axis('equal')  # Equal aspect ratio ensures that pie is drawn as a circle.\n",
    "plt.show()"
   ]
  },
  {
   "cell_type": "markdown",
   "metadata": {},
   "source": [
    "Dapay dilihat disini distribusi dari tumor ganas dan tumor jinak yakni 37.3:62.7"
   ]
  },
  {
   "cell_type": "markdown",
   "metadata": {},
   "source": [
    "# Split dataset dan Normalisasi Data"
   ]
  },
  {
   "cell_type": "code",
   "execution_count": 41,
   "metadata": {},
   "outputs": [],
   "source": [
    "y = df[\"diagnosis\"]\n",
    "X = df[['radius_mean', 'texture_mean', 'concave points_mean', 'compactness_mean']]\n",
    "\n",
    "X_train, X_test, y_train, y_test = train_test_split(X, y, test_size=0.2, random_state=42)\n",
    "\n",
    "sc = StandardScaler()\n",
    "X_train = sc.fit_transform(X_train)\n",
    "X_test = sc.transform(X_test)"
   ]
  },
  {
   "cell_type": "code",
   "execution_count": 42,
   "metadata": {},
   "outputs": [
    {
     "data": {
      "text/html": [
       "<div>\n",
       "<style scoped>\n",
       "    .dataframe tbody tr th:only-of-type {\n",
       "        vertical-align: middle;\n",
       "    }\n",
       "\n",
       "    .dataframe tbody tr th {\n",
       "        vertical-align: top;\n",
       "    }\n",
       "\n",
       "    .dataframe thead th {\n",
       "        text-align: right;\n",
       "    }\n",
       "</style>\n",
       "<table border=\"1\" class=\"dataframe\">\n",
       "  <thead>\n",
       "    <tr style=\"text-align: right;\">\n",
       "      <th></th>\n",
       "      <th>radius_mean</th>\n",
       "      <th>texture_mean</th>\n",
       "      <th>concave points_mean</th>\n",
       "      <th>compactness_mean</th>\n",
       "    </tr>\n",
       "  </thead>\n",
       "  <tbody>\n",
       "    <tr>\n",
       "      <th>0</th>\n",
       "      <td>17.99</td>\n",
       "      <td>10.38</td>\n",
       "      <td>0.14710</td>\n",
       "      <td>0.27760</td>\n",
       "    </tr>\n",
       "    <tr>\n",
       "      <th>1</th>\n",
       "      <td>20.57</td>\n",
       "      <td>17.77</td>\n",
       "      <td>0.07017</td>\n",
       "      <td>0.07864</td>\n",
       "    </tr>\n",
       "    <tr>\n",
       "      <th>2</th>\n",
       "      <td>19.69</td>\n",
       "      <td>21.25</td>\n",
       "      <td>0.12790</td>\n",
       "      <td>0.15990</td>\n",
       "    </tr>\n",
       "    <tr>\n",
       "      <th>3</th>\n",
       "      <td>11.42</td>\n",
       "      <td>20.38</td>\n",
       "      <td>0.10520</td>\n",
       "      <td>0.28390</td>\n",
       "    </tr>\n",
       "    <tr>\n",
       "      <th>4</th>\n",
       "      <td>20.29</td>\n",
       "      <td>14.34</td>\n",
       "      <td>0.10430</td>\n",
       "      <td>0.13280</td>\n",
       "    </tr>\n",
       "    <tr>\n",
       "      <th>...</th>\n",
       "      <td>...</td>\n",
       "      <td>...</td>\n",
       "      <td>...</td>\n",
       "      <td>...</td>\n",
       "    </tr>\n",
       "    <tr>\n",
       "      <th>564</th>\n",
       "      <td>21.56</td>\n",
       "      <td>22.39</td>\n",
       "      <td>0.13890</td>\n",
       "      <td>0.11590</td>\n",
       "    </tr>\n",
       "    <tr>\n",
       "      <th>565</th>\n",
       "      <td>20.13</td>\n",
       "      <td>28.25</td>\n",
       "      <td>0.09791</td>\n",
       "      <td>0.10340</td>\n",
       "    </tr>\n",
       "    <tr>\n",
       "      <th>566</th>\n",
       "      <td>16.60</td>\n",
       "      <td>28.08</td>\n",
       "      <td>0.05302</td>\n",
       "      <td>0.10230</td>\n",
       "    </tr>\n",
       "    <tr>\n",
       "      <th>567</th>\n",
       "      <td>20.60</td>\n",
       "      <td>29.33</td>\n",
       "      <td>0.15200</td>\n",
       "      <td>0.27700</td>\n",
       "    </tr>\n",
       "    <tr>\n",
       "      <th>568</th>\n",
       "      <td>7.76</td>\n",
       "      <td>24.54</td>\n",
       "      <td>0.00000</td>\n",
       "      <td>0.04362</td>\n",
       "    </tr>\n",
       "  </tbody>\n",
       "</table>\n",
       "<p>569 rows × 4 columns</p>\n",
       "</div>"
      ],
      "text/plain": [
       "     radius_mean  texture_mean  concave points_mean  compactness_mean\n",
       "0          17.99         10.38              0.14710           0.27760\n",
       "1          20.57         17.77              0.07017           0.07864\n",
       "2          19.69         21.25              0.12790           0.15990\n",
       "3          11.42         20.38              0.10520           0.28390\n",
       "4          20.29         14.34              0.10430           0.13280\n",
       "..           ...           ...                  ...               ...\n",
       "564        21.56         22.39              0.13890           0.11590\n",
       "565        20.13         28.25              0.09791           0.10340\n",
       "566        16.60         28.08              0.05302           0.10230\n",
       "567        20.60         29.33              0.15200           0.27700\n",
       "568         7.76         24.54              0.00000           0.04362\n",
       "\n",
       "[569 rows x 4 columns]"
      ]
     },
     "execution_count": 42,
     "metadata": {},
     "output_type": "execute_result"
    }
   ],
   "source": [
    "X"
   ]
  },
  {
   "cell_type": "markdown",
   "metadata": {},
   "source": [
    "## Membangun Model\n"
   ]
  },
  {
   "cell_type": "code",
   "execution_count": 43,
   "metadata": {},
   "outputs": [
    {
     "name": "stdout",
     "output_type": "stream",
     "text": [
      "Akurasi: 0.956140350877193\n",
      "Matriks Evaluasi:\n",
      " [[69  2]\n",
      " [ 3 40]]\n",
      "Classification Report:\n",
      "               precision    recall  f1-score   support\n",
      "\n",
      "           0       0.96      0.97      0.97        71\n",
      "           1       0.95      0.93      0.94        43\n",
      "\n",
      "    accuracy                           0.96       114\n",
      "   macro avg       0.96      0.95      0.95       114\n",
      "weighted avg       0.96      0.96      0.96       114\n",
      "\n"
     ]
    }
   ],
   "source": [
    "# Membuat dan melatih model SVC\n",
    "svm = SVC(kernel='linear',random_state=0)\n",
    "svm.fit(X_train, y_train)\n",
    "\n",
    "# Membuat prediksi\n",
    "pred = svm.predict(X_test)\n",
    "\n",
    "# Menghitung akurasi\n",
    "acs = accuracy_score(y_test, pred)\n",
    "print(\"Akurasi:\", acs)\n",
    "\n",
    "# Membuat matriks evaluasi\n",
    "cm = confusion_matrix(y_test, pred)\n",
    "print(\"Matriks Evaluasi:\\n\", cm)\n",
    "\n",
    "\n",
    "# Generate a detailed classification report\n",
    "report = classification_report(y_test, pred)\n",
    "print(\"Classification Report:\\n\", report)"
   ]
  },
  {
   "cell_type": "markdown",
   "metadata": {},
   "source": [
    "Merupakan hasil dari prediksi dengan menggunakan semua fitur yang ada didalam tabel dan menggunakan kernel linear"
   ]
  },
  {
   "cell_type": "code",
   "execution_count": 44,
   "metadata": {},
   "outputs": [
    {
     "data": {
      "text/html": [
       "<style>#sk-container-id-3 {color: black;}#sk-container-id-3 pre{padding: 0;}#sk-container-id-3 div.sk-toggleable {background-color: white;}#sk-container-id-3 label.sk-toggleable__label {cursor: pointer;display: block;width: 100%;margin-bottom: 0;padding: 0.3em;box-sizing: border-box;text-align: center;}#sk-container-id-3 label.sk-toggleable__label-arrow:before {content: \"▸\";float: left;margin-right: 0.25em;color: #696969;}#sk-container-id-3 label.sk-toggleable__label-arrow:hover:before {color: black;}#sk-container-id-3 div.sk-estimator:hover label.sk-toggleable__label-arrow:before {color: black;}#sk-container-id-3 div.sk-toggleable__content {max-height: 0;max-width: 0;overflow: hidden;text-align: left;background-color: #f0f8ff;}#sk-container-id-3 div.sk-toggleable__content pre {margin: 0.2em;color: black;border-radius: 0.25em;background-color: #f0f8ff;}#sk-container-id-3 input.sk-toggleable__control:checked~div.sk-toggleable__content {max-height: 200px;max-width: 100%;overflow: auto;}#sk-container-id-3 input.sk-toggleable__control:checked~label.sk-toggleable__label-arrow:before {content: \"▾\";}#sk-container-id-3 div.sk-estimator input.sk-toggleable__control:checked~label.sk-toggleable__label {background-color: #d4ebff;}#sk-container-id-3 div.sk-label input.sk-toggleable__control:checked~label.sk-toggleable__label {background-color: #d4ebff;}#sk-container-id-3 input.sk-hidden--visually {border: 0;clip: rect(1px 1px 1px 1px);clip: rect(1px, 1px, 1px, 1px);height: 1px;margin: -1px;overflow: hidden;padding: 0;position: absolute;width: 1px;}#sk-container-id-3 div.sk-estimator {font-family: monospace;background-color: #f0f8ff;border: 1px dotted black;border-radius: 0.25em;box-sizing: border-box;margin-bottom: 0.5em;}#sk-container-id-3 div.sk-estimator:hover {background-color: #d4ebff;}#sk-container-id-3 div.sk-parallel-item::after {content: \"\";width: 100%;border-bottom: 1px solid gray;flex-grow: 1;}#sk-container-id-3 div.sk-label:hover label.sk-toggleable__label {background-color: #d4ebff;}#sk-container-id-3 div.sk-serial::before {content: \"\";position: absolute;border-left: 1px solid gray;box-sizing: border-box;top: 0;bottom: 0;left: 50%;z-index: 0;}#sk-container-id-3 div.sk-serial {display: flex;flex-direction: column;align-items: center;background-color: white;padding-right: 0.2em;padding-left: 0.2em;position: relative;}#sk-container-id-3 div.sk-item {position: relative;z-index: 1;}#sk-container-id-3 div.sk-parallel {display: flex;align-items: stretch;justify-content: center;background-color: white;position: relative;}#sk-container-id-3 div.sk-item::before, #sk-container-id-3 div.sk-parallel-item::before {content: \"\";position: absolute;border-left: 1px solid gray;box-sizing: border-box;top: 0;bottom: 0;left: 50%;z-index: -1;}#sk-container-id-3 div.sk-parallel-item {display: flex;flex-direction: column;z-index: 1;position: relative;background-color: white;}#sk-container-id-3 div.sk-parallel-item:first-child::after {align-self: flex-end;width: 50%;}#sk-container-id-3 div.sk-parallel-item:last-child::after {align-self: flex-start;width: 50%;}#sk-container-id-3 div.sk-parallel-item:only-child::after {width: 0;}#sk-container-id-3 div.sk-dashed-wrapped {border: 1px dashed gray;margin: 0 0.4em 0.5em 0.4em;box-sizing: border-box;padding-bottom: 0.4em;background-color: white;}#sk-container-id-3 div.sk-label label {font-family: monospace;font-weight: bold;display: inline-block;line-height: 1.2em;}#sk-container-id-3 div.sk-label-container {text-align: center;}#sk-container-id-3 div.sk-container {/* jupyter's `normalize.less` sets `[hidden] { display: none; }` but bootstrap.min.css set `[hidden] { display: none !important; }` so we also need the `!important` here to be able to override the default hidden behavior on the sphinx rendered scikit-learn.org. See: https://github.com/scikit-learn/scikit-learn/issues/21755 */display: inline-block !important;position: relative;}#sk-container-id-3 div.sk-text-repr-fallback {display: none;}</style><div id=\"sk-container-id-3\" class=\"sk-top-container\"><div class=\"sk-text-repr-fallback\"><pre>SVC(C=10, gamma=1)</pre><b>In a Jupyter environment, please rerun this cell to show the HTML representation or trust the notebook. <br />On GitHub, the HTML representation is unable to render, please try loading this page with nbviewer.org.</b></div><div class=\"sk-container\" hidden><div class=\"sk-item\"><div class=\"sk-estimator sk-toggleable\"><input class=\"sk-toggleable__control sk-hidden--visually\" id=\"sk-estimator-id-3\" type=\"checkbox\" checked><label for=\"sk-estimator-id-3\" class=\"sk-toggleable__label sk-toggleable__label-arrow\">SVC</label><div class=\"sk-toggleable__content\"><pre>SVC(C=10, gamma=1)</pre></div></div></div></div></div>"
      ],
      "text/plain": [
       "SVC(C=10, gamma=1)"
      ]
     },
     "execution_count": 44,
     "metadata": {},
     "output_type": "execute_result"
    }
   ],
   "source": [
    "# membangun model SVM dengan kernel rbf dan variabel 1 dan 2\n",
    "svm_rbf = SVC(kernel='rbf', C=10, gamma=1)\n",
    "svm_rbf.fit(X_train[:, [0, 1]], y_train)"
   ]
  },
  {
   "cell_type": "code",
   "execution_count": 45,
   "metadata": {},
   "outputs": [
    {
     "name": "stdout",
     "output_type": "stream",
     "text": [
      "Classification Report:\n",
      "              precision    recall  f1-score   support\n",
      "\n",
      "           0       0.92      0.94      0.93        71\n",
      "           1       0.90      0.86      0.88        43\n",
      "\n",
      "    accuracy                           0.91       114\n",
      "   macro avg       0.91      0.90      0.91       114\n",
      "weighted avg       0.91      0.91      0.91       114\n",
      "\n"
     ]
    }
   ],
   "source": [
    "# Model testing and prediction\n",
    "y_pred_rbf = svm_rbf.predict(X_test[:, [0, 1]])  \n",
    "print(\"Classification Report:\")\n",
    "print(classification_report(y_test, y_pred_rbf))"
   ]
  },
  {
   "cell_type": "code",
   "execution_count": 46,
   "metadata": {},
   "outputs": [
    {
     "data": {
      "text/html": [
       "<style>#sk-container-id-4 {color: black;}#sk-container-id-4 pre{padding: 0;}#sk-container-id-4 div.sk-toggleable {background-color: white;}#sk-container-id-4 label.sk-toggleable__label {cursor: pointer;display: block;width: 100%;margin-bottom: 0;padding: 0.3em;box-sizing: border-box;text-align: center;}#sk-container-id-4 label.sk-toggleable__label-arrow:before {content: \"▸\";float: left;margin-right: 0.25em;color: #696969;}#sk-container-id-4 label.sk-toggleable__label-arrow:hover:before {color: black;}#sk-container-id-4 div.sk-estimator:hover label.sk-toggleable__label-arrow:before {color: black;}#sk-container-id-4 div.sk-toggleable__content {max-height: 0;max-width: 0;overflow: hidden;text-align: left;background-color: #f0f8ff;}#sk-container-id-4 div.sk-toggleable__content pre {margin: 0.2em;color: black;border-radius: 0.25em;background-color: #f0f8ff;}#sk-container-id-4 input.sk-toggleable__control:checked~div.sk-toggleable__content {max-height: 200px;max-width: 100%;overflow: auto;}#sk-container-id-4 input.sk-toggleable__control:checked~label.sk-toggleable__label-arrow:before {content: \"▾\";}#sk-container-id-4 div.sk-estimator input.sk-toggleable__control:checked~label.sk-toggleable__label {background-color: #d4ebff;}#sk-container-id-4 div.sk-label input.sk-toggleable__control:checked~label.sk-toggleable__label {background-color: #d4ebff;}#sk-container-id-4 input.sk-hidden--visually {border: 0;clip: rect(1px 1px 1px 1px);clip: rect(1px, 1px, 1px, 1px);height: 1px;margin: -1px;overflow: hidden;padding: 0;position: absolute;width: 1px;}#sk-container-id-4 div.sk-estimator {font-family: monospace;background-color: #f0f8ff;border: 1px dotted black;border-radius: 0.25em;box-sizing: border-box;margin-bottom: 0.5em;}#sk-container-id-4 div.sk-estimator:hover {background-color: #d4ebff;}#sk-container-id-4 div.sk-parallel-item::after {content: \"\";width: 100%;border-bottom: 1px solid gray;flex-grow: 1;}#sk-container-id-4 div.sk-label:hover label.sk-toggleable__label {background-color: #d4ebff;}#sk-container-id-4 div.sk-serial::before {content: \"\";position: absolute;border-left: 1px solid gray;box-sizing: border-box;top: 0;bottom: 0;left: 50%;z-index: 0;}#sk-container-id-4 div.sk-serial {display: flex;flex-direction: column;align-items: center;background-color: white;padding-right: 0.2em;padding-left: 0.2em;position: relative;}#sk-container-id-4 div.sk-item {position: relative;z-index: 1;}#sk-container-id-4 div.sk-parallel {display: flex;align-items: stretch;justify-content: center;background-color: white;position: relative;}#sk-container-id-4 div.sk-item::before, #sk-container-id-4 div.sk-parallel-item::before {content: \"\";position: absolute;border-left: 1px solid gray;box-sizing: border-box;top: 0;bottom: 0;left: 50%;z-index: -1;}#sk-container-id-4 div.sk-parallel-item {display: flex;flex-direction: column;z-index: 1;position: relative;background-color: white;}#sk-container-id-4 div.sk-parallel-item:first-child::after {align-self: flex-end;width: 50%;}#sk-container-id-4 div.sk-parallel-item:last-child::after {align-self: flex-start;width: 50%;}#sk-container-id-4 div.sk-parallel-item:only-child::after {width: 0;}#sk-container-id-4 div.sk-dashed-wrapped {border: 1px dashed gray;margin: 0 0.4em 0.5em 0.4em;box-sizing: border-box;padding-bottom: 0.4em;background-color: white;}#sk-container-id-4 div.sk-label label {font-family: monospace;font-weight: bold;display: inline-block;line-height: 1.2em;}#sk-container-id-4 div.sk-label-container {text-align: center;}#sk-container-id-4 div.sk-container {/* jupyter's `normalize.less` sets `[hidden] { display: none; }` but bootstrap.min.css set `[hidden] { display: none !important; }` so we also need the `!important` here to be able to override the default hidden behavior on the sphinx rendered scikit-learn.org. See: https://github.com/scikit-learn/scikit-learn/issues/21755 */display: inline-block !important;position: relative;}#sk-container-id-4 div.sk-text-repr-fallback {display: none;}</style><div id=\"sk-container-id-4\" class=\"sk-top-container\"><div class=\"sk-text-repr-fallback\"><pre>SVC(C=10, gamma=1, kernel=&#x27;linear&#x27;)</pre><b>In a Jupyter environment, please rerun this cell to show the HTML representation or trust the notebook. <br />On GitHub, the HTML representation is unable to render, please try loading this page with nbviewer.org.</b></div><div class=\"sk-container\" hidden><div class=\"sk-item\"><div class=\"sk-estimator sk-toggleable\"><input class=\"sk-toggleable__control sk-hidden--visually\" id=\"sk-estimator-id-4\" type=\"checkbox\" checked><label for=\"sk-estimator-id-4\" class=\"sk-toggleable__label sk-toggleable__label-arrow\">SVC</label><div class=\"sk-toggleable__content\"><pre>SVC(C=10, gamma=1, kernel=&#x27;linear&#x27;)</pre></div></div></div></div></div>"
      ],
      "text/plain": [
       "SVC(C=10, gamma=1, kernel='linear')"
      ]
     },
     "execution_count": 46,
     "metadata": {},
     "output_type": "execute_result"
    }
   ],
   "source": [
    "# membangun model SVM dengan kernel linear dan variabel 1 dan 2\n",
    "svm_linear = SVC(kernel='linear', C=10, gamma=1)\n",
    "svm_linear.fit(X_train[:, [0, 1]], y_train)"
   ]
  },
  {
   "cell_type": "code",
   "execution_count": 47,
   "metadata": {},
   "outputs": [
    {
     "name": "stdout",
     "output_type": "stream",
     "text": [
      "Classification Report:\n",
      "              precision    recall  f1-score   support\n",
      "\n",
      "           0       0.92      0.94      0.93        71\n",
      "           1       0.90      0.86      0.88        43\n",
      "\n",
      "    accuracy                           0.91       114\n",
      "   macro avg       0.91      0.90      0.91       114\n",
      "weighted avg       0.91      0.91      0.91       114\n",
      "\n"
     ]
    }
   ],
   "source": [
    "# Model testing and prediction\n",
    "y_pred_linear = svm_linear.predict(X_test[:, [0, 1]])  \n",
    "print(\"Classification Report:\")\n",
    "print(classification_report(y_test, y_pred_rbf))"
   ]
  },
  {
   "cell_type": "markdown",
   "metadata": {},
   "source": [
    "# Model ANN\n",
    "\n"
   ]
  },
  {
   "cell_type": "code",
   "execution_count": 48,
   "metadata": {},
   "outputs": [
    {
     "name": "stdout",
     "output_type": "stream",
     "text": [
      "Model: \"sequential_1\"\n",
      "_________________________________________________________________\n",
      " Layer (type)                Output Shape              Param #   \n",
      "=================================================================\n",
      " dense_4 (Dense)             (None, 128)               640       \n",
      "                                                                 \n",
      " dense_5 (Dense)             (None, 256)               33024     \n",
      "                                                                 \n",
      " dense_6 (Dense)             (None, 256)               65792     \n",
      "                                                                 \n",
      " dense_7 (Dense)             (None, 1)                 257       \n",
      "                                                                 \n",
      "=================================================================\n",
      "Total params: 99713 (389.50 KB)\n",
      "Trainable params: 99713 (389.50 KB)\n",
      "Non-trainable params: 0 (0.00 Byte)\n",
      "_________________________________________________________________\n"
     ]
    }
   ],
   "source": [
    "# Initialize the ANN\n",
    "model = Sequential([\n",
    "    Dense(128, activation='relu', input_shape=(X_train.shape[1],)),\n",
    "    Dense(256, activation='relu'),\n",
    "    Dense(256, activation='relu'),\n",
    "    Dense(1, activation='sigmoid')\n",
    "])\n",
    "\n",
    "# set optimizer\n",
    "optimizer = tf.keras.optimizers.Adam(learning_rate=0.01)\n",
    "\n",
    "# Compile the model\n",
    "model.compile(optimizer=optimizer, loss='binary_crossentropy', metrics=['accuracy'])\n",
    "\n",
    "model.summary()\n"
   ]
  },
  {
   "cell_type": "code",
   "execution_count": 49,
   "metadata": {},
   "outputs": [],
   "source": [
    "# make custom callback function\n",
    "class myCallback(tf.keras.callbacks.Callback):\n",
    "    def on_epoch_end(self, epoch, logs={}):\n",
    "        if logs.get('accuracy') > 0.95:\n",
    "            print(\"\\nAkurasi telah mencapai lebih dari 95%!\")\n",
    "            self.model.stop_training = True\n",
    "            \n",
    "callbacks = myCallback()\n"
   ]
  },
  {
   "cell_type": "code",
   "execution_count": 50,
   "metadata": {},
   "outputs": [
    {
     "name": "stdout",
     "output_type": "stream",
     "text": [
      "Epoch 1/100\n"
     ]
    },
    {
     "name": "stdout",
     "output_type": "stream",
     "text": [
      "12/12 [==============================] - 2s 18ms/step - loss: 0.3466 - accuracy: 0.8764 - val_loss: 0.1979 - val_accuracy: 0.9011\n",
      "Epoch 2/100\n",
      "12/12 [==============================] - 0s 6ms/step - loss: 0.1889 - accuracy: 0.9258 - val_loss: 0.1663 - val_accuracy: 0.9451\n",
      "Epoch 3/100\n",
      "12/12 [==============================] - 0s 5ms/step - loss: 0.1659 - accuracy: 0.9368 - val_loss: 0.1527 - val_accuracy: 0.9451\n",
      "Epoch 4/100\n",
      "12/12 [==============================] - 0s 5ms/step - loss: 0.1355 - accuracy: 0.9478 - val_loss: 0.1696 - val_accuracy: 0.9231\n",
      "Epoch 5/100\n",
      "12/12 [==============================] - 0s 6ms/step - loss: 0.1298 - accuracy: 0.9423 - val_loss: 0.1484 - val_accuracy: 0.9341\n",
      "Epoch 6/100\n",
      "12/12 [==============================] - 0s 7ms/step - loss: 0.1284 - accuracy: 0.9451 - val_loss: 0.1536 - val_accuracy: 0.9451\n",
      "Epoch 7/100\n",
      " 1/12 [=>............................] - ETA: 0s - loss: 0.0538 - accuracy: 1.0000\n",
      "Akurasi telah mencapai lebih dari 95%!\n",
      "12/12 [==============================] - 0s 5ms/step - loss: 0.1091 - accuracy: 0.9505 - val_loss: 0.2092 - val_accuracy: 0.9231\n"
     ]
    }
   ],
   "source": [
    "# Train the model\n",
    "model.history = model.fit(X_train, y_train, \n",
    "                          epochs=100, batch_size=32, \n",
    "                          validation_split=0.2, \n",
    "                          callbacks=[callbacks], verbose=1)"
   ]
  },
  {
   "cell_type": "code",
   "execution_count": 51,
   "metadata": {},
   "outputs": [
    {
     "data": {
      "text/plain": [
       "<matplotlib.legend.Legend at 0x7a57481cf730>"
      ]
     },
     "execution_count": 51,
     "metadata": {},
     "output_type": "execute_result"
    },
    {
     "data": {
      "image/png": "[encoded data removed]",
      "text/plain": [
       "<Figure size 1200x600 with 1 Axes>"
      ]
     },
     "metadata": {},
     "output_type": "display_data"
    },
    {
     "data": {
      "image/png": "[encoded data removed]",
      "text/plain": [
       "<Figure size 1200x600 with 1 Axes>"
      ]
     },
     "metadata": {},
     "output_type": "display_data"
    }
   ],
   "source": [
    "# loss plot\n",
    "plt.figure(figsize=(12, 6))\n",
    "plt.plot(model.history.history['loss'], label='Loss')\n",
    "plt.plot(model.history.history['val_loss'], label='Validation Loss')\n",
    "plt.xlabel('Epoch')\n",
    "plt.ylabel('Loss')\n",
    "plt.legend()\n",
    "\n",
    "# accuracy plot\n",
    "plt.figure(figsize=(12, 6))\n",
    "plt.plot(model.history.history['accuracy'], label='Accuracy')\n",
    "plt.plot(model.history.history['val_accuracy'], label='Validation Accuracy')\n",
    "plt.xlabel('Epoch')\n",
    "plt.ylabel('Accuracy')\n",
    "plt.legend()"
   ]
  },
  {
   "cell_type": "code",
   "execution_count": 52,
   "metadata": {},
   "outputs": [
    {
     "name": "stdout",
     "output_type": "stream",
     "text": [
      "Loss: 0.16\n",
      "Accuracy: 94.74%\n"
     ]
    }
   ],
   "source": [
    "# Predict the target variable\n",
    "loss, accuracy = model.evaluate(X_test, y_test, verbose=0)\n",
    "\n",
    "print(f'Loss: {loss:.2f}')\n",
    "print(f'Accuracy: {accuracy*100:.2f}%')"
   ]
  },
  {
   "cell_type": "code",
   "execution_count": 53,
   "metadata": {},
   "outputs": [
    {
     "name": "stdout",
     "output_type": "stream",
     "text": [
      "4/4 [==============================] - 0s 2ms/step\n"
     ]
    }
   ],
   "source": [
    "# Evaluate the model\n",
    "y_pred = model.predict(X_test)\n",
    "y_pred = (y_pred > 0.5)\n"
   ]
  },
  {
   "cell_type": "code",
   "execution_count": 69,
   "metadata": {},
   "outputs": [
    {
     "name": "stdout",
     "output_type": "stream",
     "text": [
      "4/4 [==============================] - 0s 2ms/step\n",
      "                SVM RBF               |        TensorFlow Model      \n",
      "----------------------------------------------------------------------\n",
      "Akurasi       : 90.35%                |      94.74%                  |\n",
      "Recall        : 83.72%                |      95.35%                  |\n",
      "Presisi       : 90.00%                |      91.11%                  |\n"
     ]
    }
   ],
   "source": [
    "from sklearn.metrics import accuracy_score, recall_score, precision_score, f1_score\n",
    "import tensorflow as tf\n",
    "\n",
    "# Prediksi dengan model TensorFlow\n",
    "y_pred_tf = model.predict(X_test)  # Gantilah 'model' dengan model TensorFlow Anda\n",
    "y_pred_tf = (y_pred_tf > 0.5).astype(int)  # Konversi probabilitas menjadi label biner (0 atau 1)\n",
    "\n",
    "# Metrik evaluasi untuk model TensorFlow\n",
    "akurasi_tf = accuracy_score(y_test, y_pred_tf)\n",
    "recall_tf = recall_score(y_test, y_pred_tf)\n",
    "presisi_tf = precision_score(y_test, y_pred_tf)\n",
    "f1_tf = f1_score(y_test, y_pred_tf)\n",
    "\n",
    "\n",
    "y_pred_linear = svm_linear.predict(X_test[:, [0, 1]])\n",
    "\n",
    "# Menghitung dan mencetak nilai akurasi\n",
    "accuracy = accuracy_score(y_test, y_pred_linear)\n",
    "# print(f\"Accuracy: {accuracy:.4f}\")\n",
    "\n",
    "# Menghitung dan mencetak nilai presisi\n",
    "precision = precision_score(y_test, y_pred_linear)\n",
    "# print(f\"Precision: {precision:.4f}\")\n",
    "\n",
    "# Menghitung dan mencetak nilai recall\n",
    "recall = recall_score(y_test, y_pred_linear)\n",
    "# print(f\"Recall: {recall:.4f}\")\n",
    "# Menampilkan metrik evaluasi secara berdampingan\n",
    "print(\"                SVM RBF               |        TensorFlow Model      \")\n",
    "print(\"----------------------------------------------------------------------\")\n",
    "print(f\"Akurasi       : {accuracy*100:.2f}%                |      {akurasi_tf*100:.2f}%                  |\")\n",
    "print(f\"Recall        : {recall*100:.2f}%                |      {recall_tf*100:.2f}%                  |\")\n",
    "print(f\"Presisi       : {precision*100:.2f}%                |      {presisi_tf*100:.2f}%                  |\")\n",
    "\n"
   ]
  },
  {
   "cell_type": "code",
   "execution_count": null,
   "metadata": {},
   "outputs": [],
   "source": []
  }
 ],
 "metadata": {
  "kernelspec": {
   "display_name": "analisis_data",
   "language": "python",
   "name": "python3"
  },
  "language_info": {
   "codemirror_mode": {
    "name": "ipython",
    "version": 3
   },
   "file_extension": ".py",
   "mimetype": "text/x-python",
   "name": "python",
   "nbconvert_exporter": "python",
   "pygments_lexer": "ipython3",
   "version": "3.10.14"
  }
 },
 "nbformat": 4,
 "nbformat_minor": 2
}
