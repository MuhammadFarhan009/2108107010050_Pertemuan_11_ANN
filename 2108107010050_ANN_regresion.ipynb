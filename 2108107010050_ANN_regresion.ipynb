{
 "cells": [
  {
   "cell_type": "markdown",
   "metadata": {},
   "source": [
    "## Informasi Mahasiswa\n",
    "\n",
    "Nama: Muhammad Farhan\n",
    "\n",
    "NPM: 2108107010050\n",
    "\n"
   ]
  },
  {
   "cell_type": "markdown",
   "metadata": {},
   "source": [
    "# Dataset\n",
    "\n",
    "Source dataset: https://archive.ics.uci.edu/dataset/294/combined+cycle+power+plant\n",
    "\n",
    "Dataset ini berisi 9568 titik data yang dikumpulkan dari Pembangkit Listrik Siklus Gabungan selama 6 tahun (2006-2011), ketika pembangkit listrik diatur untuk bekerja dengan beban penuh.  Features consist of hourly average ambient variables Temperature (AT), Ambient Pressure (AP), Relative Humidity (RH) and Exhaust Vacuum (V) to predict the net hourly electrical energy output (EP)  of the plant."
   ]
  },
  {
   "cell_type": "markdown",
   "metadata": {},
   "source": [
    "# Library Yang Digunakan"
   ]
  },
  {
   "cell_type": "code",
   "execution_count": 1,
   "metadata": {},
   "outputs": [
    {
     "name": "stderr",
     "output_type": "stream",
     "text": [
      "2024-04-16 22:37:34.738737: I tensorflow/tsl/cuda/cudart_stub.cc:28] Could not find cuda drivers on your machine, GPU will not be used.\n",
      "2024-04-16 22:37:34.785297: E tensorflow/compiler/xla/stream_executor/cuda/cuda_dnn.cc:9342] Unable to register cuDNN factory: Attempting to register factory for plugin cuDNN when one has already been registered\n",
      "2024-04-16 22:37:34.785339: E tensorflow/compiler/xla/stream_executor/cuda/cuda_fft.cc:609] Unable to register cuFFT factory: Attempting to register factory for plugin cuFFT when one has already been registered\n",
      "2024-04-16 22:37:34.785372: E tensorflow/compiler/xla/stream_executor/cuda/cuda_blas.cc:1518] Unable to register cuBLAS factory: Attempting to register factory for plugin cuBLAS when one has already been registered\n",
      "2024-04-16 22:37:34.793874: I tensorflow/tsl/cuda/cudart_stub.cc:28] Could not find cuda drivers on your machine, GPU will not be used.\n",
      "2024-04-16 22:37:34.795306: I tensorflow/core/platform/cpu_feature_guard.cc:182] This TensorFlow binary is optimized to use available CPU instructions in performance-critical operations.\n",
      "To enable the following instructions: AVX2 FMA, in other operations, rebuild TensorFlow with the appropriate compiler flags.\n",
      "2024-04-16 22:37:36.385367: W tensorflow/compiler/tf2tensorrt/utils/py_utils.cc:38] TF-TRT Warning: Could not find TensorRT\n"
     ]
    }
   ],
   "source": [
    "import numpy as np \n",
    "import pandas as pd\n",
    "import matplotlib.pyplot as plt\n",
    "import seaborn as sns\n",
    "import tensorflow as tf\n",
    "from sklearn.model_selection import train_test_split\n",
    "from sklearn.preprocessing import StandardScaler\n",
    "from tensorflow import keras\n",
    "from tensorflow.keras import layers\n",
    "from keras import callbacks"
   ]
  },
  {
   "cell_type": "markdown",
   "metadata": {},
   "source": [
    "# Membaca dataset"
   ]
  },
  {
   "cell_type": "code",
   "execution_count": 2,
   "metadata": {},
   "outputs": [
    {
     "data": {
      "text/html": [
       "<div>\n",
       "<style scoped>\n",
       "    .dataframe tbody tr th:only-of-type {\n",
       "        vertical-align: middle;\n",
       "    }\n",
       "\n",
       "    .dataframe tbody tr th {\n",
       "        vertical-align: top;\n",
       "    }\n",
       "\n",
       "    .dataframe thead th {\n",
       "        text-align: right;\n",
       "    }\n",
       "</style>\n",
       "<table border=\"1\" class=\"dataframe\">\n",
       "  <thead>\n",
       "    <tr style=\"text-align: right;\">\n",
       "      <th></th>\n",
       "      <th>AT</th>\n",
       "      <th>V</th>\n",
       "      <th>AP</th>\n",
       "      <th>RH</th>\n",
       "      <th>PE</th>\n",
       "    </tr>\n",
       "  </thead>\n",
       "  <tbody>\n",
       "    <tr>\n",
       "      <th>0</th>\n",
       "      <td>14.96</td>\n",
       "      <td>41.76</td>\n",
       "      <td>1024.07</td>\n",
       "      <td>73.17</td>\n",
       "      <td>463.26</td>\n",
       "    </tr>\n",
       "    <tr>\n",
       "      <th>1</th>\n",
       "      <td>25.18</td>\n",
       "      <td>62.96</td>\n",
       "      <td>1020.04</td>\n",
       "      <td>59.08</td>\n",
       "      <td>444.37</td>\n",
       "    </tr>\n",
       "    <tr>\n",
       "      <th>2</th>\n",
       "      <td>5.11</td>\n",
       "      <td>39.40</td>\n",
       "      <td>1012.16</td>\n",
       "      <td>92.14</td>\n",
       "      <td>488.56</td>\n",
       "    </tr>\n",
       "    <tr>\n",
       "      <th>3</th>\n",
       "      <td>20.86</td>\n",
       "      <td>57.32</td>\n",
       "      <td>1010.24</td>\n",
       "      <td>76.64</td>\n",
       "      <td>446.48</td>\n",
       "    </tr>\n",
       "    <tr>\n",
       "      <th>4</th>\n",
       "      <td>10.82</td>\n",
       "      <td>37.50</td>\n",
       "      <td>1009.23</td>\n",
       "      <td>96.62</td>\n",
       "      <td>473.90</td>\n",
       "    </tr>\n",
       "  </tbody>\n",
       "</table>\n",
       "</div>"
      ],
      "text/plain": [
       "      AT      V       AP     RH      PE\n",
       "0  14.96  41.76  1024.07  73.17  463.26\n",
       "1  25.18  62.96  1020.04  59.08  444.37\n",
       "2   5.11  39.40  1012.16  92.14  488.56\n",
       "3  20.86  57.32  1010.24  76.64  446.48\n",
       "4  10.82  37.50  1009.23  96.62  473.90"
      ]
     },
     "execution_count": 2,
     "metadata": {},
     "output_type": "execute_result"
    }
   ],
   "source": [
    "# Baca dataset\n",
    "df = pd.read_excel(\"dataset/power.csv\")\n",
    "df.head()"
   ]
  },
  {
   "cell_type": "markdown",
   "metadata": {},
   "source": [
    "# Preprocessing Data"
   ]
  },
  {
   "cell_type": "code",
   "execution_count": 3,
   "metadata": {},
   "outputs": [
    {
     "name": "stdout",
     "output_type": "stream",
     "text": [
      "<class 'pandas.core.frame.DataFrame'>\n",
      "RangeIndex: 9568 entries, 0 to 9567\n",
      "Data columns (total 5 columns):\n",
      " #   Column  Non-Null Count  Dtype  \n",
      "---  ------  --------------  -----  \n",
      " 0   AT      9568 non-null   float64\n",
      " 1   V       9568 non-null   float64\n",
      " 2   AP      9568 non-null   float64\n",
      " 3   RH      9568 non-null   float64\n",
      " 4   PE      9568 non-null   float64\n",
      "dtypes: float64(5)\n",
      "memory usage: 373.9 KB\n"
     ]
    }
   ],
   "source": [
    "df.info()"
   ]
  },
  {
   "cell_type": "code",
   "execution_count": 4,
   "metadata": {},
   "outputs": [
    {
     "data": {
      "text/plain": [
       "AT    0\n",
       "V     0\n",
       "AP    0\n",
       "RH    0\n",
       "PE    0\n",
       "dtype: int64"
      ]
     },
     "execution_count": 4,
     "metadata": {},
     "output_type": "execute_result"
    }
   ],
   "source": [
    "df.isnull().sum()"
   ]
  },
  {
   "cell_type": "code",
   "execution_count": 5,
   "metadata": {},
   "outputs": [
    {
     "data": {
      "text/plain": [
       "0"
      ]
     },
     "execution_count": 5,
     "metadata": {},
     "output_type": "execute_result"
    }
   ],
   "source": [
    "#drop duplicate data\n",
    "df.drop_duplicates(inplace=True)\n",
    "\n",
    "#check duplicate data\n",
    "df.duplicated().sum()"
   ]
  },
  {
   "cell_type": "markdown",
   "metadata": {},
   "source": [
    "# Exploratory Data Analysis"
   ]
  },
  {
   "cell_type": "code",
   "execution_count": 6,
   "metadata": {},
   "outputs": [
    {
     "data": {
      "image/png": "[encoded data removed]",
      "text/plain": [
       "<Figure size 800x600 with 2 Axes>"
      ]
     },
     "metadata": {},
     "output_type": "display_data"
    }
   ],
   "source": [
    "#check korelasi\n",
    "\n",
    "# Calculate correlation matrix\n",
    "correlation_matrix = df.corr()\n",
    "\n",
    "# Plot heatmap\n",
    "plt.figure(figsize=(8, 6))\n",
    "sns.heatmap(correlation_matrix, annot=True, cmap='coolwarm', fmt=\".2f\", linewidths=0.5)\n",
    "plt.title('Correlation Matrix')\n",
    "plt.show()"
   ]
  },
  {
   "cell_type": "markdown",
   "metadata": {},
   "source": [
    "# Split dataset dan Normalisasi Data"
   ]
  },
  {
   "cell_type": "code",
   "execution_count": 7,
   "metadata": {},
   "outputs": [],
   "source": [
    "from sklearn.model_selection import train_test_split\n",
    "from sklearn.preprocessing import StandardScaler\n",
    "\n",
    "# Initialise the Scaler \n",
    "scaler = StandardScaler() \n",
    "\n",
    "# Tentukan variabel independen dan dependen\n",
    "X = df[['AT']]  # Notice the double brackets to keep it as a DataFrame\n",
    "y = df['PE']\n",
    "\n",
    "# Scaling the data independent variable\n",
    "X_scaled = scaler.fit_transform(X)  # Ensure X remains a 2D array after scaling\n",
    "y_scaled = scaler.fit_transform(y.values.reshape(-1,1)).flatten()\n",
    "\n",
    "# Splitting the dataset into the Training set and Test set\n",
    "X_train, X_test, y_train, y_test = train_test_split(X_scaled, y_scaled, test_size=0.2, random_state=42)\n"
   ]
  },
  {
   "cell_type": "markdown",
   "metadata": {},
   "source": [
    "## Membangun Model SVR\n"
   ]
  },
  {
   "cell_type": "code",
   "execution_count": 8,
   "metadata": {},
   "outputs": [],
   "source": [
    "from sklearn import metrics\n",
    "\n",
    "# Fungsi untuk menampilkan hasil evaluasi model\n",
    "def print_evaluate(true, predicted):  \n",
    "    mae = metrics.mean_absolute_error(true, predicted)\n",
    "    mse = metrics.mean_squared_error(true, predicted)\n",
    "    rmse = np.sqrt(metrics.mean_squared_error(true, predicted))\n",
    "    r2_square = metrics.r2_score(true, predicted)\n",
    "    print('MAE:', mae)\n",
    "    print('MSE:', mse)\n",
    "    print('RMSE:', rmse)\n",
    "    print('R2 Square', r2_square)\n",
    "    print('__________________________________')"
   ]
  },
  {
   "cell_type": "code",
   "execution_count": 9,
   "metadata": {},
   "outputs": [
    {
     "name": "stdout",
     "output_type": "stream",
     "text": [
      "MAE: 0.23161677226954502\n",
      "MSE: 0.08993732389348678\n",
      "RMSE: 0.2998955216295948\n",
      "R2 Square 0.911162552593954\n",
      "__________________________________\n",
      "Trial Model tanpa paramater apa pun :\n",
      "MAE: 0.491544790759159\n",
      "MSE: 0.3515640434027055\n",
      "RMSE: 0.5929283627915817\n",
      "R2 Square 0.6527353620991325\n",
      "__________________________________\n"
     ]
    }
   ],
   "source": [
    "from sklearn.svm import SVR\n",
    "\n",
    "# Instantiate SVR with polynomial kernel\n",
    "svr_poly = SVR(kernel='poly', C=10, gamma=0.1,coef0=1,epsilon=0.2, degree=3)\n",
    "svr_poly_trial = SVR(kernel='poly', C=10, degree=3)\n",
    "\n",
    "# Train SVR model\n",
    "svr_poly.fit(X_train, y_train)\n",
    "svr_poly_trial.fit(X_train, y_train)\n",
    "\n",
    "# Predict using the trained model\n",
    "y_pred = svr_poly.predict(X_test)\n",
    "y_pred_trial = svr_poly_trial.predict(X_test)\n",
    "\n",
    "# Evaluate the model\n",
    "print_evaluate(y_test, y_pred) \n",
    "\n",
    "print('Trial Model tanpa paramater apa pun :')\n",
    "print_evaluate(y_test, y_pred_trial)"
   ]
  },
  {
   "cell_type": "markdown",
   "metadata": {},
   "source": [
    "## Membangun Model ANN\n",
    "\n"
   ]
  },
  {
   "cell_type": "code",
   "execution_count": 10,
   "metadata": {},
   "outputs": [
    {
     "name": "stderr",
     "output_type": "stream",
     "text": [
      "2024-04-16 22:38:11.453681: I tensorflow/compiler/xla/stream_executor/cuda/cuda_gpu_executor.cc:894] successful NUMA node read from SysFS had negative value (-1), but there must be at least one NUMA node, so returning NUMA node zero. See more at https://github.com/torvalds/linux/blob/v6.0/Documentation/ABI/testing/sysfs-bus-pci#L344-L355\n",
      "2024-04-16 22:38:11.455845: W tensorflow/core/common_runtime/gpu/gpu_device.cc:2211] Cannot dlopen some GPU libraries. Please make sure the missing libraries mentioned above are installed properly if you would like to use GPU. Follow the guide at https://www.tensorflow.org/install/gpu for how to download and setup the required libraries for your platform.\n",
      "Skipping registering GPU devices...\n"
     ]
    }
   ],
   "source": [
    "model = keras.Sequential([\n",
    "    layers.Input(shape=(1,)),        # Input layer\n",
    "    layers.Dense(32, activation='relu'),  # Hidden layer with 32 neurons and ReLU activation\n",
    "    layers.Dense(1)                  # Output layer with a single neuron (for regression)\n",
    "])\n",
    "\n",
    "model.compile(optimizer='adam', loss='mean_squared_error')\n",
    "\n"
   ]
  },
  {
   "cell_type": "code",
   "execution_count": 11,
   "metadata": {},
   "outputs": [
    {
     "name": "stdout",
     "output_type": "stream",
     "text": [
      "Epoch 1/100\n",
      "239/239 [==============================] - 2s 5ms/step - loss: 0.3075 - val_loss: 0.0961\n",
      "Epoch 2/100\n",
      "239/239 [==============================] - 0s 2ms/step - loss: 0.0920 - val_loss: 0.0926\n",
      "Epoch 3/100\n",
      "239/239 [==============================] - 0s 2ms/step - loss: 0.0906 - val_loss: 0.0918\n",
      "Epoch 4/100\n",
      "239/239 [==============================] - 0s 2ms/step - loss: 0.0900 - val_loss: 0.0916\n",
      "Epoch 5/100\n",
      "239/239 [==============================] - 0s 1ms/step - loss: 0.0896 - val_loss: 0.0913\n",
      "Epoch 6/100\n",
      "239/239 [==============================] - 0s 2ms/step - loss: 0.0894 - val_loss: 0.0914\n",
      "Epoch 7/100\n",
      "239/239 [==============================] - 0s 2ms/step - loss: 0.0892 - val_loss: 0.0915\n",
      "Epoch 8/100\n",
      "239/239 [==============================] - 0s 1ms/step - loss: 0.0889 - val_loss: 0.0910\n",
      "Epoch 9/100\n",
      "239/239 [==============================] - 0s 2ms/step - loss: 0.0888 - val_loss: 0.0905\n",
      "Epoch 10/100\n",
      "239/239 [==============================] - 0s 2ms/step - loss: 0.0888 - val_loss: 0.0910\n",
      "Epoch 11/100\n",
      "239/239 [==============================] - 0s 2ms/step - loss: 0.0887 - val_loss: 0.0926\n",
      "Epoch 12/100\n",
      "239/239 [==============================] - 0s 2ms/step - loss: 0.0886 - val_loss: 0.0906\n",
      "Epoch 13/100\n",
      "239/239 [==============================] - 1s 2ms/step - loss: 0.0886 - val_loss: 0.0906\n",
      "Epoch 14/100\n",
      "239/239 [==============================] - 0s 1ms/step - loss: 0.0884 - val_loss: 0.0906\n",
      "Epoch 15/100\n",
      "239/239 [==============================] - 0s 2ms/step - loss: 0.0885 - val_loss: 0.0909\n",
      "Epoch 16/100\n",
      "239/239 [==============================] - 0s 1ms/step - loss: 0.0886 - val_loss: 0.0906\n",
      "Epoch 17/100\n",
      "239/239 [==============================] - 0s 1ms/step - loss: 0.0886 - val_loss: 0.0903\n",
      "Epoch 18/100\n",
      "239/239 [==============================] - 0s 2ms/step - loss: 0.0885 - val_loss: 0.0912\n",
      "Epoch 19/100\n",
      "239/239 [==============================] - 0s 2ms/step - loss: 0.0887 - val_loss: 0.0902\n",
      "Epoch 20/100\n",
      "239/239 [==============================] - 0s 1ms/step - loss: 0.0885 - val_loss: 0.0906\n",
      "Epoch 21/100\n",
      "239/239 [==============================] - 0s 2ms/step - loss: 0.0886 - val_loss: 0.0902\n",
      "Epoch 22/100\n",
      "239/239 [==============================] - 0s 1ms/step - loss: 0.0885 - val_loss: 0.0906\n",
      "Epoch 23/100\n",
      "239/239 [==============================] - 0s 1ms/step - loss: 0.0883 - val_loss: 0.0906\n",
      "Epoch 24/100\n",
      "239/239 [==============================] - 0s 2ms/step - loss: 0.0885 - val_loss: 0.0908\n",
      "Epoch 25/100\n",
      "239/239 [==============================] - 0s 2ms/step - loss: 0.0885 - val_loss: 0.0904\n",
      "Epoch 26/100\n",
      "239/239 [==============================] - 0s 2ms/step - loss: 0.0884 - val_loss: 0.0903\n",
      "Epoch 27/100\n",
      "239/239 [==============================] - 0s 2ms/step - loss: 0.0883 - val_loss: 0.0907\n",
      "Epoch 28/100\n",
      "239/239 [==============================] - 0s 2ms/step - loss: 0.0884 - val_loss: 0.0931\n",
      "Epoch 29/100\n",
      "239/239 [==============================] - 0s 2ms/step - loss: 0.0883 - val_loss: 0.0908\n",
      "Epoch 30/100\n",
      "239/239 [==============================] - 0s 2ms/step - loss: 0.0884 - val_loss: 0.0904\n",
      "Epoch 31/100\n",
      "239/239 [==============================] - 0s 2ms/step - loss: 0.0883 - val_loss: 0.0900\n",
      "Epoch 32/100\n",
      "239/239 [==============================] - 1s 4ms/step - loss: 0.0885 - val_loss: 0.0903\n",
      "Epoch 33/100\n",
      "239/239 [==============================] - 1s 2ms/step - loss: 0.0883 - val_loss: 0.0906\n",
      "Epoch 34/100\n",
      "239/239 [==============================] - 1s 3ms/step - loss: 0.0883 - val_loss: 0.0934\n",
      "Epoch 35/100\n",
      "239/239 [==============================] - 1s 3ms/step - loss: 0.0883 - val_loss: 0.0904\n",
      "Epoch 36/100\n",
      "239/239 [==============================] - 1s 3ms/step - loss: 0.0883 - val_loss: 0.0905\n",
      "Epoch 37/100\n",
      "239/239 [==============================] - 1s 2ms/step - loss: 0.0884 - val_loss: 0.0905\n",
      "Epoch 38/100\n",
      "239/239 [==============================] - 1s 2ms/step - loss: 0.0885 - val_loss: 0.0908\n",
      "Epoch 39/100\n",
      "239/239 [==============================] - 1s 2ms/step - loss: 0.0884 - val_loss: 0.0901\n",
      "Epoch 40/100\n",
      "239/239 [==============================] - 1s 2ms/step - loss: 0.0883 - val_loss: 0.0901\n",
      "Epoch 41/100\n",
      "239/239 [==============================] - 1s 2ms/step - loss: 0.0884 - val_loss: 0.0901\n",
      "Epoch 42/100\n",
      "239/239 [==============================] - 1s 3ms/step - loss: 0.0884 - val_loss: 0.0913\n",
      "Epoch 43/100\n",
      "239/239 [==============================] - 0s 2ms/step - loss: 0.0885 - val_loss: 0.0912\n",
      "Epoch 44/100\n",
      "239/239 [==============================] - 1s 2ms/step - loss: 0.0882 - val_loss: 0.0900\n",
      "Epoch 45/100\n",
      "239/239 [==============================] - 1s 2ms/step - loss: 0.0883 - val_loss: 0.0911\n",
      "Epoch 46/100\n",
      "239/239 [==============================] - 1s 2ms/step - loss: 0.0884 - val_loss: 0.0902\n",
      "Epoch 47/100\n",
      "239/239 [==============================] - 1s 2ms/step - loss: 0.0883 - val_loss: 0.0908\n",
      "Epoch 48/100\n",
      "239/239 [==============================] - 1s 3ms/step - loss: 0.0882 - val_loss: 0.0940\n",
      "Epoch 49/100\n",
      "239/239 [==============================] - 1s 2ms/step - loss: 0.0885 - val_loss: 0.0903\n",
      "Epoch 50/100\n",
      "239/239 [==============================] - 1s 3ms/step - loss: 0.0883 - val_loss: 0.0904\n",
      "Epoch 51/100\n",
      "239/239 [==============================] - 1s 2ms/step - loss: 0.0883 - val_loss: 0.0899\n",
      "Epoch 52/100\n",
      "239/239 [==============================] - 1s 3ms/step - loss: 0.0884 - val_loss: 0.0902\n",
      "Epoch 53/100\n",
      "239/239 [==============================] - 1s 3ms/step - loss: 0.0884 - val_loss: 0.0907\n",
      "Epoch 54/100\n",
      "239/239 [==============================] - 0s 2ms/step - loss: 0.0884 - val_loss: 0.0905\n",
      "Epoch 55/100\n",
      "239/239 [==============================] - 0s 2ms/step - loss: 0.0882 - val_loss: 0.0902\n",
      "Epoch 56/100\n",
      "239/239 [==============================] - 0s 2ms/step - loss: 0.0886 - val_loss: 0.0906\n",
      "Epoch 57/100\n",
      "239/239 [==============================] - 0s 2ms/step - loss: 0.0883 - val_loss: 0.0904\n",
      "Epoch 58/100\n",
      "239/239 [==============================] - 0s 2ms/step - loss: 0.0882 - val_loss: 0.0907\n",
      "Epoch 59/100\n",
      "239/239 [==============================] - 0s 2ms/step - loss: 0.0883 - val_loss: 0.0899\n",
      "Epoch 60/100\n",
      "239/239 [==============================] - 0s 2ms/step - loss: 0.0883 - val_loss: 0.0907\n",
      "Epoch 61/100\n",
      "239/239 [==============================] - 0s 2ms/step - loss: 0.0884 - val_loss: 0.0900\n",
      "Epoch 62/100\n",
      "239/239 [==============================] - 0s 2ms/step - loss: 0.0884 - val_loss: 0.0899\n",
      "Epoch 63/100\n",
      "239/239 [==============================] - 0s 2ms/step - loss: 0.0883 - val_loss: 0.0900\n",
      "Epoch 64/100\n",
      "239/239 [==============================] - 0s 2ms/step - loss: 0.0883 - val_loss: 0.0901\n",
      "Epoch 65/100\n",
      "239/239 [==============================] - 0s 2ms/step - loss: 0.0883 - val_loss: 0.0906\n",
      "Epoch 66/100\n",
      "239/239 [==============================] - 0s 2ms/step - loss: 0.0884 - val_loss: 0.0907\n",
      "Epoch 67/100\n",
      "239/239 [==============================] - 0s 2ms/step - loss: 0.0884 - val_loss: 0.0904\n",
      "Epoch 68/100\n",
      "239/239 [==============================] - 1s 3ms/step - loss: 0.0882 - val_loss: 0.0905\n",
      "Epoch 69/100\n",
      "239/239 [==============================] - 0s 2ms/step - loss: 0.0884 - val_loss: 0.0915\n",
      "Epoch 70/100\n",
      "239/239 [==============================] - 0s 2ms/step - loss: 0.0882 - val_loss: 0.0902\n",
      "Epoch 71/100\n",
      "239/239 [==============================] - 0s 2ms/step - loss: 0.0883 - val_loss: 0.0901\n",
      "Epoch 72/100\n",
      "239/239 [==============================] - 0s 2ms/step - loss: 0.0883 - val_loss: 0.0904\n",
      "Epoch 73/100\n",
      "239/239 [==============================] - 0s 2ms/step - loss: 0.0884 - val_loss: 0.0902\n",
      "Epoch 74/100\n",
      "239/239 [==============================] - 0s 2ms/step - loss: 0.0883 - val_loss: 0.0909\n",
      "Epoch 75/100\n",
      "239/239 [==============================] - 0s 2ms/step - loss: 0.0883 - val_loss: 0.0907\n",
      "Epoch 76/100\n",
      "239/239 [==============================] - 0s 2ms/step - loss: 0.0882 - val_loss: 0.0899\n",
      "Epoch 77/100\n",
      "239/239 [==============================] - 0s 2ms/step - loss: 0.0883 - val_loss: 0.0901\n",
      "Epoch 78/100\n",
      "239/239 [==============================] - 1s 2ms/step - loss: 0.0882 - val_loss: 0.0903\n",
      "Epoch 79/100\n",
      "239/239 [==============================] - 0s 2ms/step - loss: 0.0883 - val_loss: 0.0899\n",
      "Epoch 80/100\n",
      "239/239 [==============================] - 0s 2ms/step - loss: 0.0884 - val_loss: 0.0899\n",
      "Epoch 81/100\n",
      "239/239 [==============================] - 0s 2ms/step - loss: 0.0883 - val_loss: 0.0903\n",
      "Epoch 82/100\n",
      "239/239 [==============================] - 0s 2ms/step - loss: 0.0883 - val_loss: 0.0901\n",
      "Epoch 83/100\n",
      "239/239 [==============================] - 0s 2ms/step - loss: 0.0883 - val_loss: 0.0900\n",
      "Epoch 84/100\n",
      "239/239 [==============================] - 0s 2ms/step - loss: 0.0885 - val_loss: 0.0912\n",
      "Epoch 85/100\n",
      "239/239 [==============================] - 1s 2ms/step - loss: 0.0884 - val_loss: 0.0899\n",
      "Epoch 86/100\n",
      "239/239 [==============================] - 0s 2ms/step - loss: 0.0882 - val_loss: 0.0898\n",
      "Epoch 87/100\n",
      "239/239 [==============================] - 1s 2ms/step - loss: 0.0883 - val_loss: 0.0905\n",
      "Epoch 88/100\n",
      "239/239 [==============================] - 0s 2ms/step - loss: 0.0884 - val_loss: 0.0899\n",
      "Epoch 89/100\n",
      "239/239 [==============================] - 0s 2ms/step - loss: 0.0884 - val_loss: 0.0904\n",
      "Epoch 90/100\n",
      "239/239 [==============================] - 0s 2ms/step - loss: 0.0883 - val_loss: 0.0900\n",
      "Epoch 91/100\n",
      "239/239 [==============================] - 0s 2ms/step - loss: 0.0884 - val_loss: 0.0912\n",
      "Epoch 92/100\n",
      "239/239 [==============================] - 0s 2ms/step - loss: 0.0883 - val_loss: 0.0903\n",
      "Epoch 93/100\n",
      "239/239 [==============================] - 0s 2ms/step - loss: 0.0882 - val_loss: 0.0901\n",
      "Epoch 94/100\n",
      "239/239 [==============================] - 0s 2ms/step - loss: 0.0882 - val_loss: 0.0898\n",
      "Epoch 95/100\n",
      "239/239 [==============================] - 0s 2ms/step - loss: 0.0881 - val_loss: 0.0904\n",
      "Epoch 96/100\n",
      "239/239 [==============================] - 0s 2ms/step - loss: 0.0882 - val_loss: 0.0908\n",
      "Epoch 97/100\n",
      "239/239 [==============================] - 1s 2ms/step - loss: 0.0883 - val_loss: 0.0899\n",
      "Epoch 98/100\n",
      "239/239 [==============================] - 0s 2ms/step - loss: 0.0884 - val_loss: 0.0899\n",
      "Epoch 99/100\n",
      "239/239 [==============================] - 0s 2ms/step - loss: 0.0883 - val_loss: 0.0901\n",
      "Epoch 100/100\n",
      "239/239 [==============================] - 0s 2ms/step - loss: 0.0883 - val_loss: 0.0900\n"
     ]
    },
    {
     "data": {
      "text/plain": [
       "<keras.src.callbacks.History at 0x765f86f66740>"
      ]
     },
     "execution_count": 11,
     "metadata": {},
     "output_type": "execute_result"
    }
   ],
   "source": [
    "# You can adjust the number of epochs and batch size based on your data and resources.\n",
    "model.fit(X_train, y_train, epochs=100, batch_size=32, validation_data=(X_test, y_test))"
   ]
  },
  {
   "cell_type": "code",
   "execution_count": 12,
   "metadata": {},
   "outputs": [
    {
     "name": "stdout",
     "output_type": "stream",
     "text": [
      "Model: \"sequential\"\n",
      "_________________________________________________________________\n",
      " Layer (type)                Output Shape              Param #   \n",
      "=================================================================\n",
      " dense (Dense)               (None, 32)                64        \n",
      "                                                                 \n",
      " dense_1 (Dense)             (None, 1)                 33        \n",
      "                                                                 \n",
      "=================================================================\n",
      "Total params: 97 (388.00 Byte)\n",
      "Trainable params: 97 (388.00 Byte)\n",
      "Non-trainable params: 0 (0.00 Byte)\n",
      "_________________________________________________________________\n"
     ]
    }
   ],
   "source": [
    "model.summary()"
   ]
  },
  {
   "cell_type": "code",
   "execution_count": 13,
   "metadata": {},
   "outputs": [],
   "source": [
    "# Convert continuous values to binary using a threshold (e.g., 0.5)\n",
    "threshold = 0.5\n",
    "y_test_binary = (y_test > threshold).astype(int)\n"
   ]
  },
  {
   "cell_type": "code",
   "execution_count": 14,
   "metadata": {},
   "outputs": [
    {
     "name": "stdout",
     "output_type": "stream",
     "text": [
      "26/60 [============>.................] - ETA: 0s"
     ]
    },
    {
     "name": "stdout",
     "output_type": "stream",
     "text": [
      "60/60 [==============================] - 0s 5ms/step\n",
      "Test Accuracy: 0.9470\n"
     ]
    }
   ],
   "source": [
    "from sklearn.metrics import accuracy_score\n",
    "\n",
    "# Assuming y_pred contains the model's predictions\n",
    "y_pred = model.predict(X_test)\n",
    "\n",
    "# Convert predictions to labels (binary)\n",
    "y_pred_labels = (y_pred > threshold).astype(int)\n",
    "\n",
    "# Calculate accuracy\n",
    "accuracy = accuracy_score(y_test_binary, y_pred_labels)\n",
    "\n",
    "print(f\"Test Accuracy: {accuracy:.4f}\")\n"
   ]
  },
  {
   "cell_type": "code",
   "execution_count": 15,
   "metadata": {},
   "outputs": [
    {
     "name": "stdout",
     "output_type": "stream",
     "text": [
      "50/60 [========================>.....] - ETA: 0s - loss: 0.0908"
     ]
    },
    {
     "name": "stdout",
     "output_type": "stream",
     "text": [
      "60/60 [==============================] - 0s 3ms/step - loss: 0.0900\n",
      "Test Loss: 0.0900\n"
     ]
    }
   ],
   "source": [
    "# Evaluate the model on the test data\n",
    "test_loss = model.evaluate(X_test, y_test)\n",
    "print(f\"Test Loss: {test_loss:.4f}\")"
   ]
  },
  {
   "cell_type": "code",
   "execution_count": 16,
   "metadata": {},
   "outputs": [
    {
     "name": "stdout",
     "output_type": "stream",
     "text": [
      "Epoch 1/150\n"
     ]
    },
    {
     "name": "stdout",
     "output_type": "stream",
     "text": [
      "191/191 [==============================] - 0s 2ms/step - loss: 0.0883 - val_loss: 0.0902\n",
      "Epoch 2/150\n",
      "191/191 [==============================] - 0s 2ms/step - loss: 0.0881 - val_loss: 0.0897\n",
      "Epoch 3/150\n",
      "191/191 [==============================] - 0s 2ms/step - loss: 0.0881 - val_loss: 0.0882\n",
      "Epoch 4/150\n",
      "191/191 [==============================] - 1s 3ms/step - loss: 0.0880 - val_loss: 0.0885\n",
      "Epoch 5/150\n",
      "191/191 [==============================] - 1s 3ms/step - loss: 0.0882 - val_loss: 0.0883\n",
      "Epoch 6/150\n",
      "191/191 [==============================] - 1s 3ms/step - loss: 0.0882 - val_loss: 0.0884\n",
      "Epoch 7/150\n",
      "191/191 [==============================] - 0s 2ms/step - loss: 0.0882 - val_loss: 0.0883\n",
      "Epoch 8/150\n",
      "191/191 [==============================] - 1s 4ms/step - loss: 0.0882 - val_loss: 0.0885\n",
      "Epoch 9/150\n",
      "191/191 [==============================] - 1s 3ms/step - loss: 0.0882 - val_loss: 0.0886\n",
      "Epoch 10/150\n",
      "191/191 [==============================] - 0s 2ms/step - loss: 0.0882 - val_loss: 0.0885\n",
      "Epoch 11/150\n",
      "191/191 [==============================] - 1s 4ms/step - loss: 0.0879 - val_loss: 0.0888\n",
      "Epoch 12/150\n",
      "191/191 [==============================] - 1s 3ms/step - loss: 0.0881 - val_loss: 0.0886\n",
      "Epoch 13/150\n",
      "191/191 [==============================] - 1s 3ms/step - loss: 0.0881 - val_loss: 0.0896\n",
      "Epoch 14/150\n",
      "191/191 [==============================] - 1s 3ms/step - loss: 0.0882 - val_loss: 0.0889\n",
      "Epoch 15/150\n",
      "191/191 [==============================] - 0s 2ms/step - loss: 0.0884 - val_loss: 0.0886\n",
      "Epoch 16/150\n",
      "191/191 [==============================] - 0s 2ms/step - loss: 0.0882 - val_loss: 0.0891\n",
      "Epoch 17/150\n",
      "191/191 [==============================] - 0s 2ms/step - loss: 0.0882 - val_loss: 0.0892\n",
      "Epoch 18/150\n",
      "191/191 [==============================] - 0s 2ms/step - loss: 0.0884 - val_loss: 0.0885\n",
      "Epoch 19/150\n",
      "191/191 [==============================] - 0s 2ms/step - loss: 0.0880 - val_loss: 0.0891\n",
      "Epoch 20/150\n",
      "191/191 [==============================] - 0s 2ms/step - loss: 0.0881 - val_loss: 0.0887\n",
      "Epoch 21/150\n",
      "191/191 [==============================] - 0s 2ms/step - loss: 0.0881 - val_loss: 0.0888\n",
      "Epoch 22/150\n",
      "191/191 [==============================] - 0s 2ms/step - loss: 0.0883 - val_loss: 0.0884\n",
      "Epoch 23/150\n",
      "191/191 [==============================] - 0s 2ms/step - loss: 0.0881 - val_loss: 0.0879\n"
     ]
    }
   ],
   "source": [
    "#Early stopping\n",
    "early_stopping = callbacks.EarlyStopping(\n",
    "    min_delta=0.001, # minimium amount of change to count as an improvement\n",
    "    patience=20, # how many epochs to wait before stopping\n",
    "    restore_best_weights=True,\n",
    ")\n",
    "# Train the ANN\n",
    "history = model.fit(X_train, y_train, batch_size = 32, epochs = 150, callbacks=[early_stopping], validation_split=0.2)"
   ]
  },
  {
   "cell_type": "code",
   "execution_count": 17,
   "metadata": {},
   "outputs": [
    {
     "data": {
      "text/plain": [
       "Text(0.5, 1.0, 'Loss vs Val_Loss')"
      ]
     },
     "execution_count": 17,
     "metadata": {},
     "output_type": "execute_result"
    },
    {
     "data": {
      "image/png": "[encoded data removed]",
      "text/plain": [
       "<Figure size 800x600 with 1 Axes>"
      ]
     },
     "metadata": {},
     "output_type": "display_data"
    }
   ],
   "source": [
    "# plot loss dan val_loss\n",
    "plt.figure(figsize=(8,6))\n",
    "plt.plot(history.history['loss'], label='Loss') # loss is the loss on the training set\n",
    "plt.plot(history.history['val_loss'], label='Val_Loss') # val loss is the loss on the validation set\n",
    "plt.xlabel('Epoch')\n",
    "plt.ylabel('Loss')\n",
    "plt.title('Loss vs Val_Loss')"
   ]
  }
 ],
 "metadata": {
  "kernelspec": {
   "display_name": "analisis_data",
   "language": "python",
   "name": "python3"
  },
  "language_info": {
   "codemirror_mode": {
    "name": "ipython",
    "version": 3
   },
   "file_extension": ".py",
   "mimetype": "text/x-python",
   "name": "python",
   "nbconvert_exporter": "python",
   "pygments_lexer": "ipython3",
   "version": "3.10.14"
  }
 },
 "nbformat": 4,
 "nbformat_minor": 2
}
